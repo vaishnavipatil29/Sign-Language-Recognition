{
  "nbformat": 4,
  "nbformat_minor": 0,
  "metadata": {
    "kernelspec": {
      "name": "python3",
      "display_name": "Python 3.8.5 64-bit",
      "metadata": {
        "interpreter": {
          "hash": "2db524e06e9f5f4ffedc911c917cb75e12dbc923643829bf417064a77eb14d37"
        }
      }
    },
    "language_info": {
      "codemirror_mode": {
        "name": "ipython",
        "version": 3
      },
      "file_extension": ".py",
      "mimetype": "text/x-python",
      "name": "python",
      "nbconvert_exporter": "python",
      "pygments_lexer": "ipython3",
      "version": "3.8.5-final"
    },
    "colab": {
      "name": "Sign_Lang_LeapMotion.ipynb",
      "provenance": []
    }
  },
  "cells": [
    {
      "cell_type": "markdown",
      "metadata": {
        "id": "p0yEy7LDiqoy"
      },
      "source": [
        "Sign Language Gesture Detection"
      ]
    },
    {
      "cell_type": "markdown",
      "metadata": {
        "id": "iB6UjGRuiibU"
      },
      "source": [
        "The dynamic sign language dataset we used was collected by a LeapMotion Controller (LMC) and was in the form of (x, y, z) coordinates of each joint of each hand collected every few milliseconds.\n",
        "This dataset consists of 25 subjects each performing the same 60 ASL signs with both their left and right hands using a LeapMotion Controller (LMC). Therefore, this dataset has 60 different ASL signs (or class labels) that we are trying to accurately predict.\n",
        "The LMC device records the position of the fingers, joints, palm, wrist, and arm every 0.04 seconds. In other words, the LMC acquires spatial coordinates of the skeleton joints of the hands and how these coordinates vary with time.\n",
        "\n",
        "\n",
        "The metacarpals, proximal, intermediate, and distal bones refer to the four different bones of an anatomical finger. The Leap Motion dataset gives us the (x, y, z) coordinates of each of these bones in each finger every 0.04 seconds for the duration of the sign. It also gives us the coordinates for the palm, wrist, and arm. Altogether, these coordinate points as a function of time provides discriminating information that can be used to identify the type of hand gesture (or ASL sign)."
      ]
    },
    {
      "cell_type": "markdown",
      "metadata": {
        "id": "FM106-ntFhP8"
      },
      "source": [
        "# Reading the Train Dataset "
      ]
    },
    {
      "cell_type": "code",
      "metadata": {
        "id": "AccuIduTFhQH"
      },
      "source": [
        "import os\n",
        "import numpy as np\n",
        "\n",
        "def do_split(arr):\n",
        "    arr=arr.split('[')\n",
        "    # print(arr[1])\n",
        "    arr=arr[1].split(']')\n",
        "    arr=arr[0]\n",
        "    arr=arr.split('\\'')\n",
        "\n",
        "    re=', '\n",
        "    re1='\\''\n",
        "    re2=''\n",
        "    while re in arr:\n",
        "        ind=arr.index(re)\n",
        "        arr.pop(ind)\n",
        "\n",
        "    while re1 in arr:\n",
        "        ind=arr.index(re1)\n",
        "        arr.pop(ind)\n",
        "    while re2 in arr:\n",
        "        ind=arr.index(re2)\n",
        "        arr.pop(ind)\n",
        "    # print(arr)\n",
        "    brr=[]\n",
        "    for j in range(len(arr)):\n",
        "        # print(arr[j])\n",
        "        if arr[j]==', 0, ':\n",
        "            brr.append(0)\n",
        "            brr.append(0)\n",
        "            brr.append(0)\n",
        "        else:\n",
        "            crr=arr[j].split(',')\n",
        "            # print(crr)\n",
        "            for i in crr:\n",
        "                if i=='' or i==' ':\n",
        "                    continue\n",
        "        \n",
        "                temp=i.split('(')\n",
        "                if len(temp)>1:\n",
        "                    # print(temp[1])\n",
        "                    brr.append(float(temp[1]))\n",
        "                    continue\n",
        "                temp=i.split(')')\n",
        "                if len(temp)>1:\n",
        "                    brr.append(float(temp[0]))\n",
        "                    continue\n",
        "                # print(i)\n",
        "        \n",
        "                if i==' 0' or i=='0':\n",
        "                    brr.append(0)\n",
        "                    brr.append(0)\n",
        "                    brr.append(0)\n",
        "                    continue\n",
        "                brr.append(float(i))\n",
        "    # print(brr)\n",
        "    # print(len(brr))\n",
        "    if len(brr)!=36:\n",
        "        print(\"length is not 36!!\")\n",
        "    return brr\n",
        "\t\n",
        "\n",
        "\n"
      ],
      "execution_count": null,
      "outputs": []
    },
    {
      "cell_type": "code",
      "metadata": {
        "scrolled": true,
        "id": "Qv-PegiyFhQJ",
        "outputId": "e31ab90c-1981-4293-fde5-ca6a35e23742"
      },
      "source": [
        "immartix=[]\n",
        "Y1=[]\n",
        "T=[]\n",
        "import random\n",
        "\n",
        "def preprocess_leapData():\n",
        "    global immartix\n",
        "    global Y1\n",
        "    path=r'Dataset'\n",
        "    for folder in os.listdir(r'Dataset'):\n",
        "       # print(folder)\n",
        "        if folder=='.ipynb_checkpoints' or folder=='.DS_Store':\n",
        "            continue\n",
        "        path1=path+'/'+folder\n",
        "        for filename in os.listdir(path1):\n",
        "           # print(filename)\n",
        "            if filename=='.ipynb_checkpoints' or filename=='.DS_Store':\n",
        "                continue\n",
        "#             print(path1+filename)\n",
        "            T.append([path1,filename])\n",
        "\n",
        "    random.shuffle(T)\n",
        "    print(T)\n",
        "    for i in range(len(T)):\n",
        "        path1=T[i][0]\n",
        "        filename=T[i][1]\n",
        "        fp=open(path1+'/'+filename,'r')\n",
        "        arr=fp.readlines()\n",
        "        # print(arr)\n",
        "        fp.close()\n",
        "        temp=[]\n",
        "        for i in range(len(arr)):\n",
        "            curr=arr[i]\n",
        "            brr=do_split(curr)\n",
        "            temp.append(brr)\n",
        "\n",
        "        immartix.append(temp)\n",
        "        alp=filename.split('_')\n",
        "        Y1.append(alp[0])\n",
        "\n",
        "preprocess_leapData()"
      ],
      "execution_count": null,
      "outputs": [
        {
          "output_type": "stream",
          "text": [
            "[['Dataset/TUESDAY', 'TUESDAY_5.txt'], ['Dataset/FINE', 'FINE_7.txt'], ['Dataset/CALL', 'CALL_6.txt'], ['Dataset/C', 'C_9.txt'], ['Dataset/ENGLISH', 'ENGLISH_6.txt'], ['Dataset/TOILET', 'TOILET_5.txt'], ['Dataset/PHONE', 'PHONE_5.txt'], ['Dataset/FOOD', 'FOOD_5.txt'], ['Dataset/CALL', 'CALL_8.txt'], ['Dataset/PLEASE', 'PLEASE_3.txt'], ['Dataset/SORRY', 'SORRY_6.txt'], ['Dataset/I', 'I_2.txt'], ['Dataset/PHONE', 'PHONE_1.txt'], ['Dataset/FRIEND', 'FRIEND_4.txt'], ['Dataset/WHERE', 'WHERE_9.txt'], ['Dataset/HOW', 'HOW_5.txt'], ['Dataset/WHICH', 'WHICH_3.txt'], ['Dataset/THRUSDAY', 'THRUSDAY_7.txt'], ['Dataset/TOILET', 'TOILET_9.txt'], ['Dataset/WHICH', 'WHICH_9.txt'], ['Dataset/NAME', 'NAME_4.txt'], ['Dataset/FINE', 'FINE_2.txt'], ['Dataset/HELP', 'HELP_7.txt'], ['Dataset/BAD', 'BAD_4.txt'], ['Dataset/MORNING', 'MORNING_4.txt'], ['Dataset/PLEASE', 'PLEASE_8.txt'], ['Dataset/WHAT', 'WHAT_7.txt'], ['Dataset/SORRY', 'SORRY_5.txt'], ['Dataset/ARE', 'ARE_9.txt'], ['Dataset/BLUE', 'BLUE_8.txt'], ['Dataset/HELP', 'HELP_8.txt'], ['Dataset/PLACE', 'PLACE_9.txt'], ['Dataset/THRUSDAY', 'THRUSDAY_8.txt'], ['Dataset/CARROM', 'CARROM_7.txt'], ['Dataset/PLACE', 'PLACE_2.txt'], ['Dataset/I', 'I_4.txt'], ['Dataset/CARROM', 'CARROM_1.txt'], ['Dataset/GOOD', 'GOOD_3.txt'], ['Dataset/ENGLISH', 'ENGLISH_2.txt'], ['Dataset/THRUSDAY', 'THRUSDAY_5.txt'], ['Dataset/THANK', 'THANK_1.txt'], ['Dataset/PLEASE', 'PLEASE_2.txt'], ['Dataset/MORNING', 'MORNING_5.txt'], ['Dataset/TALK', 'TALK_2.txt'], ['Dataset/BAD', 'BAD_2.txt'], ['Dataset/THANK', 'THANK_9.txt'], ['Dataset/EXCUSE', 'EXCUSE_1.txt'], ['Dataset/PLACE', 'PLACE_7.txt'], ['Dataset/BLUE', 'BLUE_9.txt'], ['Dataset/MORNING', 'MORNING_3.txt'], ['Dataset/THINK', 'THINK_9.txt'], ['Dataset/BAD', 'BAD_6.txt'], ['Dataset/AFTER', 'AFTER_3.txt'], ['Dataset/CARROM', 'CARROM_9.txt'], ['Dataset/THRUSDAY', 'THRUSDAY_3.txt'], ['Dataset/WORK', 'WORK_1.txt'], ['Dataset/FRIEND', 'FRIEND_6.txt'], ['Dataset/MORNING', 'MORNING_8.txt'], ['Dataset/BAD', 'BAD_7.txt'], ['Dataset/HAPPY', 'HAPPY_9.txt'], ['Dataset/WORK', 'WORK_4.txt'], ['Dataset/AFTER', 'AFTER_4.txt'], ['Dataset/A', 'A_2.txt'], ['Dataset/YOU', 'YOU_8.txt'], ['Dataset/B', 'B_3.txt'], ['Dataset/A', 'A_1.txt'], ['Dataset/THINK', 'THINK_6.txt'], ['Dataset/CARROM', 'CARROM_2.txt'], ['Dataset/PHONE', 'PHONE_9.txt'], ['Dataset/FOOD', 'FOOD_6.txt'], ['Dataset/HOW', 'HOW_2.txt'], ['Dataset/WHICH', 'WHICH_4.txt'], ['Dataset/AM', 'AM_2.txt'], ['Dataset/TUESDAY', 'TUESDAY_7.txt'], ['Dataset/FRIEND', 'FRIEND_9.txt'], ['Dataset/HAPPY', 'HAPPY_7.txt'], ['Dataset/EXCUSE', 'EXCUSE_8.txt'], ['Dataset/THANK', 'THANK_2.txt'], ['Dataset/WHERE', 'WHERE_7.txt'], ['Dataset/AM', 'AM_5.txt'], ['Dataset/TIME', 'TIME_8.txt'], ['Dataset/TALK', 'TALK_7.txt'], ['Dataset/HOW', 'HOW_4.txt'], ['Dataset/HI', 'HI_4.txt'], ['Dataset/TOILET', 'TOILET_8.txt'], ['Dataset/WORK', 'WORK_7.txt'], ['Dataset/FRIEND', 'FRIEND_3.txt'], ['Dataset/CARROM', 'CARROM_3.txt'], ['Dataset/ARE', 'ARE_4.txt'], ['Dataset/TOILET', 'TOILET_1.txt'], ['Dataset/WHERE', 'WHERE_8.txt'], ['Dataset/SORRY', 'SORRY_3.txt'], ['Dataset/BALL', 'BALL_7.txt'], ['Dataset/MORNING', 'MORNING_9.txt'], ['Dataset/FOOD', 'FOOD_4.txt'], ['Dataset/CALL', 'CALL_3.txt'], ['Dataset/GOOD', 'GOOD_6.txt'], ['Dataset/TALK', 'TALK_6.txt'], ['Dataset/PLACE', 'PLACE_1.txt'], ['Dataset/A', 'A_7.txt'], ['Dataset/TIME', 'TIME_4.txt'], ['Dataset/BALL', 'BALL_2.txt'], ['Dataset/FINE', 'FINE_8.txt'], ['Dataset/ORANGE', 'ORANGE_7.txt'], ['Dataset/B', 'B_2.txt'], ['Dataset/HOW', 'HOW_9.txt'], ['Dataset/B', 'B_5.txt'], ['Dataset/BAD', 'BAD_3.txt'], ['Dataset/PLEASE', 'PLEASE_9.txt'], ['Dataset/BALL', 'BALL_4.txt'], ['Dataset/WHICH', 'WHICH_1.txt'], ['Dataset/GOOD', 'GOOD_4.txt'], ['Dataset/THRUSDAY', 'THRUSDAY_4.txt'], ['Dataset/NAME', 'NAME_2.txt'], ['Dataset/FRIEND', 'FRIEND_8.txt'], ['Dataset/TUESDAY', 'TUESDAY_8.txt'], ['Dataset/PLACE', 'PLACE_6.txt'], ['Dataset/AM', 'AM_4.txt'], ['Dataset/TOILET', 'TOILET_3.txt'], ['Dataset/EXCUSE', 'EXCUSE_3.txt'], ['Dataset/NAME', 'NAME_1.txt'], ['Dataset/HI', 'HI_1.txt'], ['Dataset/THRUSDAY', 'THRUSDAY_6.txt'], ['Dataset/COLLEGE', 'COLLEGE_1.txt'], ['Dataset/A', 'A_6.txt'], ['Dataset/HAPPY', 'HAPPY_5.txt'], ['Dataset/FINE', 'FINE_4.txt'], ['Dataset/TALK', 'TALK_3.txt'], ['Dataset/NAME', 'NAME_8.txt'], ['Dataset/C', 'C_6.txt'], ['Dataset/CALL', 'CALL_4.txt'], ['Dataset/TUESDAY', 'TUESDAY_6.txt'], ['Dataset/B', 'B_7.txt'], ['Dataset/BAD', 'BAD_9.txt'], ['Dataset/TUESDAY', 'TUESDAY_9.txt'], ['Dataset/HELP', 'HELP_9.txt'], ['Dataset/ARE', 'ARE_2.txt'], ['Dataset/AM', 'AM_1.txt'], ['Dataset/NAME', 'NAME_7.txt'], ['Dataset/TOILET', 'TOILET_2.txt'], ['Dataset/WHAT', 'WHAT_5.txt'], ['Dataset/AFTER', 'AFTER_5.txt'], ['Dataset/THANK', 'THANK_7.txt'], ['Dataset/CARROM', 'CARROM_4.txt'], ['Dataset/WHAT', 'WHAT_8.txt'], ['Dataset/PLACE', 'PLACE_5.txt'], ['Dataset/THINK', 'THINK_4.txt'], ['Dataset/WHICH', 'WHICH_6.txt'], ['Dataset/WORK', 'WORK_5.txt'], ['Dataset/ENGLISH', 'ENGLISH_4.txt'], ['Dataset/PLACE', 'PLACE_4.txt'], ['Dataset/FINE', 'FINE_9.txt'], ['Dataset/BLUE', 'BLUE_6.txt'], ['Dataset/WORK', 'WORK_8.txt'], ['Dataset/BAD', 'BAD_1.txt'], ['Dataset/ARE', 'ARE_3.txt'], ['Dataset/HOW', 'HOW_7.txt'], ['Dataset/FINE', 'FINE_6.txt'], ['Dataset/ARE', 'ARE_6.txt'], ['Dataset/GOOD', 'GOOD_9.txt'], ['Dataset/YOU', 'YOU_4.txt'], ['Dataset/BALL', 'BALL_9.txt'], ['Dataset/HELP', 'HELP_6.txt'], ['Dataset/B', 'B_9.txt'], ['Dataset/EXCUSE', 'EXCUSE_4.txt'], ['Dataset/WHERE', 'WHERE_4.txt'], ['Dataset/C', 'C_2.txt'], ['Dataset/B', 'B_6.txt'], ['Dataset/CARROM', 'CARROM_6.txt'], ['Dataset/HI', 'HI_2.txt'], ['Dataset/THINK', 'THINK_5.txt'], ['Dataset/WHICH', 'WHICH_8.txt'], ['Dataset/PLEASE', 'PLEASE_1.txt'], ['Dataset/FINE', 'FINE_5.txt'], ['Dataset/BALL', 'BALL_5.txt'], ['Dataset/AM', 'AM_3.txt'], ['Dataset/TOILET', 'TOILET_4.txt'], ['Dataset/ARE', 'ARE_7.txt'], ['Dataset/WORK', 'WORK_9.txt'], ['Dataset/THINK', 'THINK_8.txt'], ['Dataset/WHERE', 'WHERE_2.txt'], ['Dataset/EXCUSE', 'EXCUSE_7.txt'], ['Dataset/PLACE', 'PLACE_3.txt'], ['Dataset/HI', 'HI_5.txt'], ['Dataset/YOU', 'YOU_1.txt'], ['Dataset/A', 'A_8.txt'], ['Dataset/ENGLISH', 'ENGLISH_7.txt'], ['Dataset/B', 'B_1.txt'], ['Dataset/TUESDAY', 'TUESDAY_2.txt'], ['Dataset/ARE', 'ARE_5.txt'], ['Dataset/ORANGE', 'ORANGE_9.txt'], ['Dataset/CARROM', 'CARROM_5.txt'], ['Dataset/MORNING', 'MORNING_1.txt'], ['Dataset/WHERE', 'WHERE_6.txt'], ['Dataset/WORK', 'WORK_3.txt'], ['Dataset/TALK', 'TALK_5.txt'], ['Dataset/BALL', 'BALL_6.txt'], ['Dataset/MORNING', 'MORNING_2.txt'], ['Dataset/PHONE', 'PHONE_6.txt'], ['Dataset/HAPPY', 'HAPPY_3.txt'], ['Dataset/WHAT', 'WHAT_2.txt'], ['Dataset/THINK', 'THINK_7.txt'], ['Dataset/BLUE', 'BLUE_2.txt'], ['Dataset/I', 'I_8.txt'], ['Dataset/GOOD', 'GOOD_8.txt'], ['Dataset/FOOD', 'FOOD_2.txt'], ['Dataset/FRIEND', 'FRIEND_7.txt'], ['Dataset/TALK', 'TALK_8.txt'], ['Dataset/AFTER', 'AFTER_9.txt'], ['Dataset/WHAT', 'WHAT_6.txt'], ['Dataset/TALK', 'TALK_4.txt'], ['Dataset/BLUE', 'BLUE_7.txt'], ['Dataset/WHICH', 'WHICH_5.txt'], ['Dataset/FOOD', 'FOOD_7.txt'], ['Dataset/BALL', 'BALL_8.txt'], ['Dataset/EXCUSE', 'EXCUSE_5.txt'], ['Dataset/C', 'C_4.txt'], ['Dataset/AFTER', 'AFTER_7.txt'], ['Dataset/AFTER', 'AFTER_1.txt'], ['Dataset/THINK', 'THINK_3.txt'], ['Dataset/C', 'C_8.txt'], ['Dataset/MORNING', 'MORNING_7.txt'], ['Dataset/TALK', 'TALK_1.txt'], ['Dataset/WHAT', 'WHAT_3.txt'], ['Dataset/PLEASE', 'PLEASE_4.txt'], ['Dataset/THINK', 'THINK_2.txt'], ['Dataset/GOOD', 'GOOD_2.txt'], ['Dataset/ENGLISH', 'ENGLISH_8.txt'], ['Dataset/COLLEGE', 'COLLEGE_5.txt'], ['Dataset/CALL', 'CALL_5.txt'], ['Dataset/PHONE', 'PHONE_8.txt'], ['Dataset/AM', 'AM_9.txt'], ['Dataset/NAME', 'NAME_3.txt'], ['Dataset/HAPPY', 'HAPPY_2.txt'], ['Dataset/HELP', 'HELP_5.txt'], ['Dataset/FOOD', 'FOOD_1.txt'], ['Dataset/TIME', 'TIME_7.txt'], ['Dataset/HAPPY', 'HAPPY_4.txt'], ['Dataset/EXCUSE', 'EXCUSE_9.txt'], ['Dataset/WHERE', 'WHERE_5.txt'], ['Dataset/YOU', 'YOU_7.txt'], ['Dataset/YOU', 'YOU_9.txt'], ['Dataset/ENGLISH', 'ENGLISH_5.txt'], ['Dataset/HI', 'HI_8.txt'], ['Dataset/COLLEGE', 'COLLEGE_2.txt'], ['Dataset/PLEASE', 'PLEASE_5.txt'], ['Dataset/BLUE', 'BLUE_3.txt'], ['Dataset/I', 'I_3.txt'], ['Dataset/TIME', 'TIME_9.txt'], ['Dataset/SORRY', 'SORRY_2.txt'], ['Dataset/PLEASE', 'PLEASE_6.txt'], ['Dataset/THINK', 'THINK_1.txt'], ['Dataset/BALL', 'BALL_1.txt'], ['Dataset/AFTER', 'AFTER_6.txt'], ['Dataset/AFTER', 'AFTER_8.txt'], ['Dataset/PLEASE', 'PLEASE_7.txt'], ['Dataset/A', 'A_9.txt'], ['Dataset/CALL', 'CALL_2.txt'], ['Dataset/WHICH', 'WHICH_7.txt'], ['Dataset/FRIEND', 'FRIEND_2.txt'], ['Dataset/C', 'C_1.txt'], ['Dataset/WHERE', 'WHERE_1.txt'], ['Dataset/FINE', 'FINE_1.txt'], ['Dataset/HAPPY', 'HAPPY_6.txt'], ['Dataset/BAD', 'BAD_8.txt'], ['Dataset/GOOD', 'GOOD_1.txt'], ['Dataset/ORANGE', 'ORANGE_1.txt'], ['Dataset/PHONE', 'PHONE_2.txt'], ['Dataset/FOOD', 'FOOD_3.txt'], ['Dataset/WHAT', 'WHAT_4.txt'], ['Dataset/TOILET', 'TOILET_6.txt'], ['Dataset/HOW', 'HOW_3.txt'], ['Dataset/HELP', 'HELP_2.txt'], ['Dataset/HOW', 'HOW_1.txt'], ['Dataset/SORRY', 'SORRY_9.txt'], ['Dataset/CARROM', 'CARROM_8.txt'], ['Dataset/THRUSDAY', 'THRUSDAY_2.txt'], ['Dataset/HAPPY', 'HAPPY_8.txt'], ['Dataset/YOU', 'YOU_2.txt'], ['Dataset/BLUE', 'BLUE_4.txt'], ['Dataset/HOW', 'HOW_6.txt'], ['Dataset/FINE', 'FINE_3.txt'], ['Dataset/YOU', 'YOU_5.txt'], ['Dataset/WORK', 'WORK_2.txt'], ['Dataset/ORANGE', 'ORANGE_6.txt'], ['Dataset/TUESDAY', 'TUESDAY_4.txt'], ['Dataset/AM', 'AM_6.txt'], ['Dataset/A', 'A_3.txt'], ['Dataset/THANK', 'THANK_4.txt'], ['Dataset/ENGLISH', 'ENGLISH_9.txt'], ['Dataset/THRUSDAY', 'THRUSDAY_1.txt'], ['Dataset/SORRY', 'SORRY_1.txt'], ['Dataset/ARE', 'ARE_8.txt'], ['Dataset/GOOD', 'GOOD_7.txt'], ['Dataset/ORANGE', 'ORANGE_3.txt'], ['Dataset/CALL', 'CALL_1.txt'], ['Dataset/HELP', 'HELP_4.txt'], ['Dataset/TIME', 'TIME_5.txt'], ['Dataset/I', 'I_5.txt'], ['Dataset/WORK', 'WORK_6.txt'], ['Dataset/EXCUSE', 'EXCUSE_6.txt'], ['Dataset/NAME', 'NAME_6.txt'], ['Dataset/CALL', 'CALL_7.txt'], ['Dataset/BLUE', 'BLUE_5.txt'], ['Dataset/FRIEND', 'FRIEND_1.txt'], ['Dataset/HOW', 'HOW_8.txt'], ['Dataset/TUESDAY', 'TUESDAY_1.txt'], ['Dataset/TALK', 'TALK_9.txt'], ['Dataset/SORRY', 'SORRY_4.txt'], ['Dataset/YOU', 'YOU_3.txt'], ['Dataset/PHONE', 'PHONE_4.txt'], ['Dataset/WHERE', 'WHERE_3.txt'], ['Dataset/TOILET', 'TOILET_7.txt'], ['Dataset/AM', 'AM_8.txt'], ['Dataset/PLACE', 'PLACE_8.txt'], ['Dataset/TUESDAY', 'TUESDAY_3.txt'], ['Dataset/AFTER', 'AFTER_2.txt'], ['Dataset/EXCUSE', 'EXCUSE_2.txt'], ['Dataset/HAPPY', 'HAPPY_1.txt'], ['Dataset/ORANGE', 'ORANGE_5.txt'], ['Dataset/ORANGE', 'ORANGE_2.txt'], ['Dataset/COLLEGE', 'COLLEGE_3.txt'], ['Dataset/ARE', 'ARE_1.txt'], ['Dataset/CALL', 'CALL_9.txt'], ['Dataset/COLLEGE', 'COLLEGE_7.txt'], ['Dataset/THRUSDAY', 'THRUSDAY_9.txt'], ['Dataset/WHAT', 'WHAT_1.txt'], ['Dataset/ORANGE', 'ORANGE_8.txt'], ['Dataset/ENGLISH', 'ENGLISH_3.txt'], ['Dataset/C', 'C_7.txt'], ['Dataset/C', 'C_3.txt'], ['Dataset/FRIEND', 'FRIEND_5.txt'], ['Dataset/A', 'A_4.txt'], ['Dataset/HI', 'HI_6.txt'], ['Dataset/NAME', 'NAME_5.txt'], ['Dataset/HI', 'HI_3.txt'], ['Dataset/SORRY', 'SORRY_7.txt'], ['Dataset/B', 'B_8.txt'], ['Dataset/COLLEGE', 'COLLEGE_4.txt'], ['Dataset/SORRY', 'SORRY_8.txt'], ['Dataset/THANK', 'THANK_5.txt'], ['Dataset/COLLEGE', 'COLLEGE_6.txt'], ['Dataset/THANK', 'THANK_3.txt'], ['Dataset/TIME', 'TIME_2.txt'], ['Dataset/HELP', 'HELP_3.txt'], ['Dataset/THANK', 'THANK_8.txt'], ['Dataset/PHONE', 'PHONE_3.txt'], ['Dataset/TIME', 'TIME_3.txt'], ['Dataset/BLUE', 'BLUE_1.txt'], ['Dataset/FOOD', 'FOOD_9.txt'], ['Dataset/ENGLISH', 'ENGLISH_1.txt'], ['Dataset/MORNING', 'MORNING_6.txt'], ['Dataset/YOU', 'YOU_6.txt'], ['Dataset/A', 'A_5.txt'], ['Dataset/BAD', 'BAD_5.txt'], ['Dataset/NAME', 'NAME_9.txt'], ['Dataset/I', 'I_7.txt'], ['Dataset/BALL', 'BALL_3.txt'], ['Dataset/PHONE', 'PHONE_7.txt'], ['Dataset/HI', 'HI_7.txt'], ['Dataset/COLLEGE', 'COLLEGE_9.txt'], ['Dataset/FOOD', 'FOOD_8.txt'], ['Dataset/TIME', 'TIME_1.txt'], ['Dataset/HELP', 'HELP_1.txt'], ['Dataset/GOOD', 'GOOD_5.txt'], ['Dataset/COLLEGE', 'COLLEGE_8.txt'], ['Dataset/ORANGE', 'ORANGE_4.txt'], ['Dataset/I', 'I_1.txt'], ['Dataset/WHAT', 'WHAT_9.txt'], ['Dataset/HI', 'HI_9.txt'], ['Dataset/WHICH', 'WHICH_2.txt'], ['Dataset/THANK', 'THANK_6.txt'], ['Dataset/I', 'I_6.txt'], ['Dataset/C', 'C_5.txt'], ['Dataset/I', 'I_9.txt'], ['Dataset/AM', 'AM_7.txt'], ['Dataset/B', 'B_4.txt'], ['Dataset/TIME', 'TIME_6.txt']]\n"
          ],
          "name": "stdout"
        }
      ]
    },
    {
      "cell_type": "code",
      "metadata": {
        "id": "QdU-uQTeFhQL",
        "outputId": "d947b31a-b2b3-4bf4-daa4-d30325997ccb"
      },
      "source": [
        "X=np.array(immartix)\n",
        "Y=np.array(Y1)\n",
        "Y2=np.array(Y1)\n",
        "import pandas as pd\n",
        "s = pd.Series(Y)\n",
        "labels, true_levels = pd.factorize(s)\n",
        "print(labels)\n",
        "print(true_levels)\n",
        "X.shape,labels.shape"
      ],
      "execution_count": null,
      "outputs": [
        {
          "output_type": "stream",
          "text": [
            "[ 0  1  2  3  4  5  6  7  2  8  9 10  6 11 12 13 14 15  5 14 16  1 17 18\n",
            " 19  8 20  9 21 22 17 23 15 24 23 10 24 25  4 15 26  8 19 27 18 26 28 23\n",
            " 22 19 29 18 30 24 15 31 11 19 18 32 31 30 33 34 35 33 29 24  6  7 13 14\n",
            " 36  0 11 32 28 26 12 36 37 27 13 38  5 31 11 24 21  5 12  9 39 19  7  2\n",
            " 25 27 23 33 37 39  1 40 35 13 35 18  8 39 14 25 15 16 11  0 23 36  5 28\n",
            " 16 38 15 41 33 32  1 27 16  3  2  0 35 18  0 17 21 36 16  5 20 30 26 24\n",
            " 20 23 29 14 31  4 23  1 22 31 18 21 13  1 21 25 34 39 17 35 28 12  3 35\n",
            " 24 38 29 14  8  1 39 36  5 21 31 29 12 28 23 38 34 33  4 35  0 21 40 24\n",
            " 19 12 31 27 39 19  6 32 20 29 22 10 25  7 11 27 30 20 27 22 14  7 39 28\n",
            "  3 30 30 29  3 19 27 20  8 29 25  4 41  2  6 36 16 32 17  7 37 32 28 12\n",
            " 34 34  4 38 41  8 22 10 37  9  8 29 39 30 30  8 33  2 14 11  3 12  1 32\n",
            " 18 25 40  6  7 20  5 13 17 13  9 24 15 32 34 22 13  1 34 31 40  0 36 33\n",
            " 26  4 15  9 21 25 40  2 17 37 10 31 28 16  2 22 11 13  0 27  9 34  6 12\n",
            "  5 36 23  0 30 28 32 40 40 41 21  2 41 15 20 40  4  3  3 11 33 38 16 38\n",
            "  9 35 41  9 26 41 26 37 17 26  6 37 22  7  4 19 34 33 18 16 10 39  6 38\n",
            " 41  7 37 17 25 41 40 10 20 38 14 26 10  3 10 36 35 37]\n",
            "Index(['TUESDAY', 'FINE', 'CALL', 'C', 'ENGLISH', 'TOILET', 'PHONE', 'FOOD',\n",
            "       'PLEASE', 'SORRY', 'I', 'FRIEND', 'WHERE', 'HOW', 'WHICH', 'THRUSDAY',\n",
            "       'NAME', 'HELP', 'BAD', 'MORNING', 'WHAT', 'ARE', 'BLUE', 'PLACE',\n",
            "       'CARROM', 'GOOD', 'THANK', 'TALK', 'EXCUSE', 'THINK', 'AFTER', 'WORK',\n",
            "       'HAPPY', 'A', 'YOU', 'B', 'AM', 'TIME', 'HI', 'BALL', 'ORANGE',\n",
            "       'COLLEGE'],\n",
            "      dtype='object')\n"
          ],
          "name": "stdout"
        },
        {
          "output_type": "execute_result",
          "data": {
            "text/plain": [
              "((378, 90, 36), (378,))"
            ]
          },
          "metadata": {
            "tags": []
          },
          "execution_count": 104
        }
      ]
    },
    {
      "cell_type": "code",
      "metadata": {
        "id": "0RbMDBxYFhQM",
        "outputId": "53bfeecc-8690-4829-a4cb-f4c72ab718c8"
      },
      "source": [
        "X[0]"
      ],
      "execution_count": null,
      "outputs": [
        {
          "output_type": "execute_result",
          "data": {
            "text/plain": [
              "array([[-159.385 ,  331.822 ,  -51.0965, ...,  118.51  ,  250.366 ,\n",
              "          79.471 ],\n",
              "       [-156.337 ,  330.665 ,  -50.3886, ...,  113.107 ,  248.845 ,\n",
              "          78.3612],\n",
              "       [-151.933 ,  329.157 ,  -50.225 , ...,  107.286 ,  247.808 ,\n",
              "          78.1083],\n",
              "       ...,\n",
              "       [-121.977 ,  331.402 ,  -38.1592, ...,   66.2137,  237.703 ,\n",
              "          86.4093],\n",
              "       [-122.06  ,  331.279 ,  -38.1852, ...,   65.5479,  237.841 ,\n",
              "          86.1503],\n",
              "       [-122.836 ,  330.468 ,  -38.2569, ...,   65.4749,  238.254 ,\n",
              "          86.1169]])"
            ]
          },
          "metadata": {
            "tags": []
          },
          "execution_count": 105
        }
      ]
    },
    {
      "cell_type": "code",
      "metadata": {
        "id": "vKChkmLvFhQN",
        "outputId": "7ce7a8d2-fa22-4402-b593-dc91d974c457"
      },
      "source": [
        "len(X)\n",
        "Y2=labels\n",
        "true_levels[9]"
      ],
      "execution_count": null,
      "outputs": [
        {
          "output_type": "execute_result",
          "data": {
            "text/plain": [
              "'SORRY'"
            ]
          },
          "metadata": {
            "tags": []
          },
          "execution_count": 106
        }
      ]
    },
    {
      "cell_type": "code",
      "metadata": {
        "id": "Hn5MgqTcFhQN"
      },
      "source": [
        "from sklearn.model_selection import train_test_split\n",
        "X_train,X_test,Y_train,Y_test=train_test_split(immartix, Y2, test_size = 0.3, random_state =42)"
      ],
      "execution_count": null,
      "outputs": []
    },
    {
      "cell_type": "code",
      "metadata": {
        "id": "_5fGuWpsFhQO",
        "outputId": "9500ea53-2995-4867-cd44-60a5da331e0f"
      },
      "source": [
        "X_train=np.array(X_train)\n",
        "X_test=np.array(X_test)\n",
        "\n",
        "# x=X_train[0]\n",
        "# x.shape\n",
        "\n",
        "X_train.shape, X_test.shape"
      ],
      "execution_count": null,
      "outputs": [
        {
          "output_type": "execute_result",
          "data": {
            "text/plain": [
              "((264, 90, 36), (114, 90, 36))"
            ]
          },
          "metadata": {
            "tags": []
          },
          "execution_count": 148
        }
      ]
    },
    {
      "cell_type": "code",
      "metadata": {
        "id": "6sn62NcwFhQO",
        "outputId": "8bcced35-629d-4e5e-c412-e63461a33fbe"
      },
      "source": [
        "Y_train=np.array(Y_train)\n",
        "Y_test=np.array(Y_test)\n",
        "Y_train.shape,Y_test.shape"
      ],
      "execution_count": null,
      "outputs": [
        {
          "output_type": "execute_result",
          "data": {
            "text/plain": [
              "((264,), (114,))"
            ]
          },
          "metadata": {
            "tags": []
          },
          "execution_count": 109
        }
      ]
    },
    {
      "cell_type": "code",
      "metadata": {
        "id": "FUXCto__FhQP",
        "outputId": "318ce09e-0363-441a-e7af-5f3cae810c8a"
      },
      "source": [
        "X_train.shape[0]"
      ],
      "execution_count": null,
      "outputs": [
        {
          "output_type": "execute_result",
          "data": {
            "text/plain": [
              "264"
            ]
          },
          "metadata": {
            "tags": []
          },
          "execution_count": 110
        }
      ]
    },
    {
      "cell_type": "code",
      "metadata": {
        "id": "lskhfkpuFhQP",
        "outputId": "4982fd3d-2861-4f7d-f461-b270f39f629f"
      },
      "source": [
        "Y_train"
      ],
      "execution_count": null,
      "outputs": [
        {
          "output_type": "execute_result",
          "data": {
            "text/plain": [
              "array([ 3, 34,  9, 31, 35, 24, 28, 25, 22, 14, 41, 36,  8,  5,  5,  4, 24,\n",
              "        9, 41, 12, 28, 32, 25, 34,  6, 13, 14,  9,  5, 40, 27, 10,  3, 33,\n",
              "       27, 31, 22,  5, 36, 14, 20, 39,  7, 41, 25, 24,  0, 27, 22,  6, 18,\n",
              "       25, 20, 15, 24,  9, 39, 32, 10, 31, 32, 29, 30, 11, 28, 40, 32, 38,\n",
              "       40, 10, 40, 12, 25,  3,  4, 10, 19, 33, 10, 15, 29,  2, 12, 36, 37,\n",
              "       17,  9, 41, 28, 36, 21, 18, 32, 19, 14,  2, 25,  0, 17,  1, 20, 16,\n",
              "       26, 27, 17, 41, 27, 11, 27, 22, 38, 12, 18, 37,  4, 18, 34, 11, 18,\n",
              "        6, 33, 37, 31,  4, 13, 25,  6, 10, 21, 29, 26, 31, 12, 23, 41, 19,\n",
              "        0,  8, 18, 34,  1,  2, 36, 31,  8,  9, 11, 30,  5,  4, 33, 35, 37,\n",
              "       25, 21,  7, 14, 23, 28, 30, 23, 15,  6, 20, 38,  9, 39,  6,  3, 17,\n",
              "       40, 16, 33, 17, 16,  2, 35, 12, 13, 26, 26, 11,  3, 22, 15, 37, 27,\n",
              "       14,  2,  6, 29, 20,  7, 22, 20, 29, 39, 27, 30, 40, 34, 11, 13, 24,\n",
              "        1, 19, 37,  7, 23, 32,  9, 30, 18, 34, 11,  0, 21, 13,  3,  4, 26,\n",
              "        0,  0, 37, 40, 38, 15, 29, 39, 21, 36, 35, 38, 18, 22, 17,  7, 39,\n",
              "        1, 36, 34, 15, 24, 25, 37,  2,  9,  4,  2,  1, 38, 33, 24,  3, 39,\n",
              "       38, 37, 16,  0, 14, 35,  5, 22,  1], dtype=int64)"
            ]
          },
          "metadata": {
            "tags": []
          },
          "execution_count": 111
        }
      ]
    },
    {
      "cell_type": "code",
      "metadata": {
        "id": "WFF-iM-8FhQQ"
      },
      "source": [
        "from sklearn.preprocessing import StandardScaler\n",
        "scalers = {}\n",
        "for i in range(X_train.shape[2]):\n",
        "    scalers[i] = StandardScaler()\n",
        "    X_train[:, :, i] = scalers[i].fit_transform(X_train[:, :, i]) \n",
        "\n",
        "for i in range(X_test.shape[2]):\n",
        "    X_test[:, :, i] = scalers[i].transform(X_test[:, : , i])\n",
        "    "
      ],
      "execution_count": null,
      "outputs": []
    },
    {
      "cell_type": "code",
      "metadata": {
        "id": "chBfMkyiFhQQ",
        "outputId": "77efcbac-9b1f-4e7b-9fd0-f3c36f05e932"
      },
      "source": [
        "scalers[1]"
      ],
      "execution_count": null,
      "outputs": [
        {
          "output_type": "execute_result",
          "data": {
            "text/plain": [
              "StandardScaler()"
            ]
          },
          "metadata": {
            "tags": []
          },
          "execution_count": 113
        }
      ]
    },
    {
      "cell_type": "code",
      "metadata": {
        "id": "4D4j2No_FhQR",
        "outputId": "85e54721-297e-40b1-e10c-bd8953b85bb4"
      },
      "source": [
        "X_train"
      ],
      "execution_count": null,
      "outputs": [
        {
          "output_type": "execute_result",
          "data": {
            "text/plain": [
              "array([[[ 4.06520802e-01, -7.86175786e-01,  9.39151899e-02, ...,\n",
              "          1.86295769e-01, -1.29510680e+00,  6.09263773e-01],\n",
              "        [ 4.01957534e-01, -7.86996304e-01,  1.11701872e-01, ...,\n",
              "          1.96434653e-01, -1.29193922e+00,  6.16693316e-01],\n",
              "        [ 3.94945990e-01, -7.87891356e-01,  1.28879605e-01, ...,\n",
              "          2.09198998e-01, -1.29113512e+00,  6.14859089e-01],\n",
              "        ...,\n",
              "        [ 2.83186326e-01, -7.96427531e-01,  1.40382003e-01, ...,\n",
              "          3.58857869e-01, -9.11221872e-01,  7.78225978e-01],\n",
              "        [ 2.83476379e-01, -7.96656537e-01,  1.14338295e-01, ...,\n",
              "          3.62018976e-01, -9.01095858e-01,  7.82799813e-01],\n",
              "        [ 3.05677201e-01, -7.94537504e-01,  2.68968337e-01, ...,\n",
              "          3.65147887e-01, -8.91001917e-01,  7.87892795e-01]],\n",
              "\n",
              "       [[ 4.06520802e-01, -7.86175786e-01,  9.39151899e-02, ...,\n",
              "         -8.04435539e-01, -1.15214304e-01,  1.79876442e-01],\n",
              "        [ 4.01957534e-01, -7.86996304e-01,  1.11701872e-01, ...,\n",
              "         -7.80501309e-01, -1.12320213e-01,  1.80714772e-01],\n",
              "        [ 3.94945990e-01, -7.87891356e-01,  1.28879605e-01, ...,\n",
              "         -7.63846617e-01, -1.07945731e-01,  1.77161966e-01],\n",
              "        ...,\n",
              "        [ 2.83186326e-01, -7.96427531e-01,  1.40382003e-01, ...,\n",
              "         -7.74259140e-01, -5.76889428e-02,  2.13496417e-01],\n",
              "        [ 2.83476379e-01, -7.96656537e-01,  1.14338295e-01, ...,\n",
              "         -7.35934060e-01, -4.68074791e-02,  2.15360458e-01],\n",
              "        [ 3.05677201e-01, -7.94537504e-01,  2.68968337e-01, ...,\n",
              "         -7.02291699e-01, -3.70790193e-02,  2.19702875e-01]],\n",
              "\n",
              "       [[ 4.06520802e-01, -7.86175786e-01,  9.39151899e-02, ...,\n",
              "          1.55893427e+00,  2.49918193e+00, -7.75222997e-01],\n",
              "        [ 4.01957534e-01, -7.86996304e-01,  1.11701872e-01, ...,\n",
              "          1.42474330e+00,  2.52880373e+00, -7.63605825e-01],\n",
              "        [ 3.94945990e-01, -7.87891356e-01,  1.28879605e-01, ...,\n",
              "          1.27392268e+00,  2.59475870e+00, -7.91355603e-01],\n",
              "        ...,\n",
              "        [ 2.83186326e-01, -7.96427531e-01,  1.40382003e-01, ...,\n",
              "          1.62478997e-01,  2.64531768e+00, -1.77728217e-01],\n",
              "        [ 2.83476379e-01, -7.96656537e-01,  1.14338295e-01, ...,\n",
              "          5.72073192e-02,  2.66921559e+00, -1.71734781e-01],\n",
              "        [ 3.05677201e-01, -7.94537504e-01,  2.68968337e-01, ...,\n",
              "         -8.71778528e-02,  2.68217733e+00, -1.28852110e-01]],\n",
              "\n",
              "       ...,\n",
              "\n",
              "       [[ 4.06520802e-01, -7.86175786e-01,  9.39151899e-02, ...,\n",
              "         -1.46775778e+00, -6.55028062e-03, -2.16385645e-01],\n",
              "        [ 4.01957534e-01, -7.86996304e-01,  1.11701872e-01, ...,\n",
              "         -1.42928109e+00,  1.86124547e-03, -2.06271498e-01],\n",
              "        [ 3.94945990e-01, -7.87891356e-01,  1.28879605e-01, ...,\n",
              "         -1.40260581e+00,  1.18577611e-02, -1.99962819e-01],\n",
              "        ...,\n",
              "        [ 2.83186326e-01, -7.96427531e-01,  1.40382003e-01, ...,\n",
              "         -1.34539461e+00,  1.55393597e-01, -4.50512897e-02],\n",
              "        [ 2.83476379e-01, -7.96656537e-01,  1.14338295e-01, ...,\n",
              "         -1.29051500e+00,  1.64475129e-01, -5.14984193e-02],\n",
              "        [ 3.05677201e-01, -7.94537504e-01,  2.68968337e-01, ...,\n",
              "         -1.24187101e+00,  1.71886426e-01, -5.06533314e-02]],\n",
              "\n",
              "       [[ 4.06520802e-01, -7.86175786e-01,  9.39151899e-02, ...,\n",
              "         -5.39940241e-01,  6.25700900e-01, -1.82759865e-01],\n",
              "        [ 4.01957534e-01, -7.86996304e-01,  1.11701872e-01, ...,\n",
              "         -5.67102856e-01,  6.63268682e-01, -2.44833004e-01],\n",
              "        [ 3.94945990e-01, -7.87891356e-01,  1.28879605e-01, ...,\n",
              "         -5.70152675e-01,  6.85399824e-01, -2.54621817e-01],\n",
              "        ...,\n",
              "        [ 2.83186326e-01, -7.96427531e-01,  1.40382003e-01, ...,\n",
              "         -7.75530540e-01,  4.92204975e-01, -7.43595297e-01],\n",
              "        [ 2.83476379e-01, -7.96656537e-01,  1.14338295e-01, ...,\n",
              "         -7.51042152e-01,  4.71958294e-01, -6.24012997e-01],\n",
              "        [ 3.05677201e-01, -7.94537504e-01,  2.68968337e-01, ...,\n",
              "         -7.52974680e-01,  4.82580934e-01, -5.65074850e-01]],\n",
              "\n",
              "       [[ 4.06520802e-01, -7.86175786e-01,  9.39151899e-02, ...,\n",
              "          2.45712102e-01,  1.24530860e-01, -1.74590754e+00],\n",
              "        [ 4.01957534e-01, -7.86996304e-01,  1.11701872e-01, ...,\n",
              "          2.51395464e-01,  1.30505590e-01, -1.73987277e+00],\n",
              "        [ 3.94945990e-01, -7.87891356e-01,  1.28879605e-01, ...,\n",
              "          2.59147943e-01,  1.43240773e-01, -1.72690659e+00],\n",
              "        ...,\n",
              "        [ 2.83186326e-01, -7.96427531e-01,  1.40382003e-01, ...,\n",
              "          4.80668728e-01,  1.66795846e-01, -1.47612323e+00],\n",
              "        [ 2.83476379e-01, -7.96656537e-01,  1.14338295e-01, ...,\n",
              "          4.80969986e-01,  1.63223583e-01, -1.48199680e+00],\n",
              "        [ 3.05677201e-01, -7.94537504e-01,  2.68968337e-01, ...,\n",
              "          4.80334318e-01,  1.66980343e-01, -1.48114071e+00]]])"
            ]
          },
          "metadata": {
            "tags": []
          },
          "execution_count": 150
        }
      ]
    },
    {
      "cell_type": "code",
      "metadata": {
        "id": "-l1GQmKdFhQR",
        "outputId": "a706c67c-cfba-4a0e-ee9c-873ad64eb6f2"
      },
      "source": [
        "X_train[0,0,0]"
      ],
      "execution_count": null,
      "outputs": [
        {
          "output_type": "execute_result",
          "data": {
            "text/plain": [
              "0.40652080227327886"
            ]
          },
          "metadata": {
            "tags": []
          },
          "execution_count": 115
        }
      ]
    },
    {
      "cell_type": "code",
      "metadata": {
        "id": "wgJbypf5FhQS",
        "outputId": "36486bc7-4c88-46a8-e439-71225b5fef84"
      },
      "source": [
        "dataset_size"
      ],
      "execution_count": null,
      "outputs": [
        {
          "output_type": "execute_result",
          "data": {
            "text/plain": [
              "114"
            ]
          },
          "metadata": {
            "tags": []
          },
          "execution_count": 116
        }
      ]
    },
    {
      "cell_type": "code",
      "metadata": {
        "id": "uMkDlMwjFhQS",
        "outputId": "979ebab6-721e-41f7-cf92-5cbdb0f44cfd"
      },
      "source": [
        "from keras.utils import to_categorical\n",
        "trainX=X_train\n",
        "testX=X_test\n",
        "trainy = to_categorical(Y_train)\n",
        "testy = to_categorical(Y_test)\n",
        "\n",
        "dataset_size = len(X_train)\n",
        "X_train=X_train.reshape(dataset_size,-1)\n",
        "dataset_size = len(X_test)\n",
        "X_test=X_test.reshape(dataset_size,-1)\n",
        "\n",
        "X_train.shape,X_test.shape\n"
      ],
      "execution_count": null,
      "outputs": [
        {
          "output_type": "execute_result",
          "data": {
            "text/plain": [
              "((264, 3240), (114, 3240))"
            ]
          },
          "metadata": {
            "tags": []
          },
          "execution_count": 151
        }
      ]
    },
    {
      "cell_type": "code",
      "metadata": {
        "id": "M7vIrGmBFhQT",
        "outputId": "2e2d41d4-3f4b-48f7-c871-ac9a83bc77f5"
      },
      "source": [
        "trainy.shape"
      ],
      "execution_count": null,
      "outputs": [
        {
          "output_type": "execute_result",
          "data": {
            "text/plain": [
              "(264, 42)"
            ]
          },
          "metadata": {
            "tags": []
          },
          "execution_count": 154
        }
      ]
    },
    {
      "cell_type": "markdown",
      "metadata": {
        "id": "-WC502-6FhQT"
      },
      "source": [
        "# Validating using SVM"
      ]
    },
    {
      "cell_type": "code",
      "metadata": {
        "id": "Qn_gMVh3FhQW",
        "outputId": "6ba0a7fd-2d35-477e-9252-313f58754beb"
      },
      "source": [
        "Y_train.shape"
      ],
      "execution_count": null,
      "outputs": [
        {
          "output_type": "execute_result",
          "data": {
            "text/plain": [
              "(264,)"
            ]
          },
          "metadata": {
            "tags": []
          },
          "execution_count": 137
        }
      ]
    },
    {
      "cell_type": "code",
      "metadata": {
        "id": "7IthM1cMFhQX",
        "outputId": "fa2f055a-3816-40fc-dfb9-b76dd2114994"
      },
      "source": [
        "from sklearn.svm import SVC\n",
        "\n",
        "SVM_classifier = SVC()\n",
        "SVM_classifier.fit(X_train, Y_train)\n",
        "\n",
        "# Predicting the Test set results\n",
        "y_pred = SVM_classifier.predict(X_test)\n",
        "\n",
        "from sklearn.metrics import accuracy_score\n",
        "accuracy_score(Y_test,y_pred)"
      ],
      "execution_count": null,
      "outputs": [
        {
          "output_type": "execute_result",
          "data": {
            "text/plain": [
              "0.9473684210526315"
            ]
          },
          "metadata": {
            "tags": []
          },
          "execution_count": 118
        }
      ]
    },
    {
      "cell_type": "code",
      "metadata": {
        "id": "vpk7ipXuFhQY",
        "outputId": "f81242b7-0fd9-4307-d1bd-fca5fec86857"
      },
      "source": [
        "y_pred = SVM_classifier.predict(X_train)\n",
        "accuracy_score(Y_train,y_pred)"
      ],
      "execution_count": null,
      "outputs": [
        {
          "output_type": "execute_result",
          "data": {
            "text/plain": [
              "0.9772727272727273"
            ]
          },
          "metadata": {
            "tags": []
          },
          "execution_count": 120
        }
      ]
    },
    {
      "cell_type": "code",
      "metadata": {
        "id": "hv6EIVdYFhQZ",
        "outputId": "72827071-302d-4cfe-db5b-b8b501cf9933"
      },
      "source": [
        "\n",
        "import time\n",
        "t1 = time.time()\n",
        "y_pred = SVM_classifier.predict(X_test)\n",
        "t2 = time.time()\n",
        "print( 'Time taken was {} seconds'.format( t2 - t1))\n",
        "# 114 test size"
      ],
      "execution_count": null,
      "outputs": [
        {
          "output_type": "stream",
          "text": [
            "Time taken was 0.17456388473510742 seconds\n"
          ],
          "name": "stdout"
        }
      ]
    },
    {
      "cell_type": "code",
      "metadata": {
        "id": "-VMYqSZ5FhQa",
        "outputId": "77898239-46cd-459f-d2b3-bd4feee4e704"
      },
      "source": [
        "time_one_pred = (t2-t1)/len(X_test)\n",
        "print(time_one_pred)"
      ],
      "execution_count": null,
      "outputs": [
        {
          "output_type": "stream",
          "text": [
            "0.0015312621467991879\n"
          ],
          "name": "stdout"
        }
      ]
    },
    {
      "cell_type": "code",
      "metadata": {
        "id": "oon8jmlvFhQb",
        "outputId": "0a273ac4-9e87-439a-f0c6-869950b3b66e"
      },
      "source": [
        "X_test.shape"
      ],
      "execution_count": null,
      "outputs": [
        {
          "output_type": "execute_result",
          "data": {
            "text/plain": [
              "(114, 3240)"
            ]
          },
          "metadata": {
            "tags": []
          },
          "execution_count": 311
        }
      ]
    },
    {
      "cell_type": "markdown",
      "metadata": {
        "id": "nWN26TZ_FhQb"
      },
      "source": [
        "## CNN"
      ]
    },
    {
      "cell_type": "code",
      "metadata": {
        "id": "Esf8fIioFhQb"
      },
      "source": [
        "import cv2\n",
        "import numpy as np\n",
        "import pandas as pd\n",
        "import matplotlib.pyplot as plt\n",
        "import seaborn as sns\n",
        "import tensorflow as tf\n",
        "import keras\n",
        "from keras.models import Sequential,Model\n",
        "from keras.layers import Dense,Flatten,Dropout,BatchNormalization,Conv2D,MaxPool2D\n",
        "from keras.preprocessing.image import ImageDataGenerator\n",
        "\n",
        "from sklearn.model_selection import train_test_split\n",
        "\n",
        "from keras.utils import to_categorical\n",
        "from keras.applications.inception_v3 import InceptionV3\n",
        "from keras.callbacks import ReduceLROnPlateau\n",
        "from tensorflow.keras.optimizers import RMSprop, Adam, SGD\n",
        "import pickle\n",
        "from keras.layers.convolutional import Conv2D, MaxPooling2D"
      ],
      "execution_count": null,
      "outputs": []
    },
    {
      "cell_type": "code",
      "metadata": {
        "id": "RbitojO7FhQc"
      },
      "source": [
        "def evaluate_model_CNN(trainX, trainy, testX, testy):\n",
        "    verbose, epochs, batch_size = 1, 50,32\n",
        "    n_timesteps, n_outputs = trainX.shape[1], testy.shape[1]\n",
        "    model = Sequential()\n",
        "\n",
        "    model = Sequential()\n",
        "    model.add(Conv2D(32, (5, 5), activation='relu', input_shape=(n_timesteps,n_features, 1))) \n",
        "    model.add(MaxPooling2D((2, 2)))\n",
        "    model.add(Conv2D(64, (3, 3), activation='relu')) \n",
        "    model.add(MaxPooling2D((2, 2)))\n",
        "    model.add(Conv2D(64, (3, 3), activation='relu'))\n",
        "    model.add(MaxPooling2D((2, 2)))\n",
        "    model.add(Flatten())\n",
        "    model.add(Dense(128, activation='relu'))\n",
        "    model.add(Dense(n_outputs, activation='softmax'))\n",
        "    model.compile(loss='categorical_crossentropy', optimizer='adam', metrics=['accuracy'])\n",
        "    # fit network\n",
        "    model.fit(trainX, trainy, epochs=epochs, batch_size=batch_size, verbose=verbose)\n",
        "    return model"
      ],
      "execution_count": null,
      "outputs": []
    },
    {
      "cell_type": "code",
      "metadata": {
        "id": "wnbcTni5FhQc",
        "outputId": "150e1b51-b20d-4ed0-dabd-0e2a99b29e06"
      },
      "source": [
        "XX_train = XX_train.reshape(list(XX_train.shape) + [1]) \n",
        "model_CNN=evaluate_model_CNN(XX_train,YY_train,XX_valid,YY_valid)"
      ],
      "execution_count": null,
      "outputs": [
        {
          "output_type": "stream",
          "text": [
            "Epoch 1/50\n",
            "7/7 [==============================] - 3s 83ms/step - loss: 3.7030 - accuracy: 0.0397\n",
            "Epoch 2/50\n",
            "7/7 [==============================] - 1s 84ms/step - loss: 3.3563 - accuracy: 0.1824\n",
            "Epoch 3/50\n",
            "7/7 [==============================] - 1s 80ms/step - loss: 2.6164 - accuracy: 0.4227\n",
            "Epoch 4/50\n",
            "7/7 [==============================] - 1s 83ms/step - loss: 1.7976 - accuracy: 0.5842\n",
            "Epoch 5/50\n",
            "7/7 [==============================] - 1s 86ms/step - loss: 1.0960 - accuracy: 0.7248\n",
            "Epoch 6/50\n",
            "7/7 [==============================] - 1s 119ms/step - loss: 0.7656 - accuracy: 0.7861\n",
            "Epoch 7/50\n",
            "7/7 [==============================] - 1s 94ms/step - loss: 0.4329 - accuracy: 0.9143\n",
            "Epoch 8/50\n",
            "7/7 [==============================] - 1s 98ms/step - loss: 0.3676 - accuracy: 0.8724\n",
            "Epoch 9/50\n",
            "7/7 [==============================] - 1s 100ms/step - loss: 0.4218 - accuracy: 0.8770\n",
            "Epoch 10/50\n",
            "7/7 [==============================] - 1s 103ms/step - loss: 0.3162 - accuracy: 0.9238\n",
            "Epoch 11/50\n",
            "7/7 [==============================] - 1s 95ms/step - loss: 0.1271 - accuracy: 0.9848\n",
            "Epoch 12/50\n",
            "7/7 [==============================] - 1s 95ms/step - loss: 0.0556 - accuracy: 0.9938\n",
            "Epoch 13/50\n",
            "7/7 [==============================] - 1s 99ms/step - loss: 0.0484 - accuracy: 0.9877\n",
            "Epoch 14/50\n",
            "7/7 [==============================] - 1s 103ms/step - loss: 0.0430 - accuracy: 0.9974\n",
            "Epoch 15/50\n",
            "7/7 [==============================] - 1s 89ms/step - loss: 0.0203 - accuracy: 1.0000\n",
            "Epoch 16/50\n",
            "7/7 [==============================] - 1s 94ms/step - loss: 0.0133 - accuracy: 0.9974\n",
            "Epoch 17/50\n",
            "7/7 [==============================] - 1s 97ms/step - loss: 0.0125 - accuracy: 0.9974\n",
            "Epoch 18/50\n",
            "7/7 [==============================] - 1s 98ms/step - loss: 0.0059 - accuracy: 1.0000\n",
            "Epoch 19/50\n",
            "7/7 [==============================] - 1s 95ms/step - loss: 0.0058 - accuracy: 1.0000\n",
            "Epoch 20/50\n",
            "7/7 [==============================] - 1s 100ms/step - loss: 0.0039 - accuracy: 1.0000\n",
            "Epoch 21/50\n",
            "7/7 [==============================] - 1s 95ms/step - loss: 0.0023 - accuracy: 1.0000\n",
            "Epoch 22/50\n",
            "7/7 [==============================] - 1s 91ms/step - loss: 0.0035 - accuracy: 1.0000\n",
            "Epoch 23/50\n",
            "7/7 [==============================] - 1s 86ms/step - loss: 0.0027 - accuracy: 1.0000\n",
            "Epoch 24/50\n",
            "7/7 [==============================] - 1s 88ms/step - loss: 0.0021 - accuracy: 1.0000\n",
            "Epoch 25/50\n",
            "7/7 [==============================] - 1s 106ms/step - loss: 0.0020 - accuracy: 1.0000\n",
            "Epoch 26/50\n",
            "7/7 [==============================] - 1s 99ms/step - loss: 0.0020 - accuracy: 1.0000\n",
            "Epoch 27/50\n",
            "7/7 [==============================] - 1s 106ms/step - loss: 0.0016 - accuracy: 1.0000\n",
            "Epoch 28/50\n",
            "7/7 [==============================] - 1s 99ms/step - loss: 0.0015 - accuracy: 1.0000\n",
            "Epoch 29/50\n",
            "7/7 [==============================] - 1s 89ms/step - loss: 0.0017 - accuracy: 1.0000\n",
            "Epoch 30/50\n",
            "7/7 [==============================] - 1s 85ms/step - loss: 0.0013 - accuracy: 1.0000\n",
            "Epoch 31/50\n",
            "7/7 [==============================] - 1s 90ms/step - loss: 0.0013 - accuracy: 1.0000\n",
            "Epoch 32/50\n",
            "7/7 [==============================] - 1s 85ms/step - loss: 0.0013 - accuracy: 1.0000\n",
            "Epoch 33/50\n",
            "7/7 [==============================] - 1s 97ms/step - loss: 0.0013 - accuracy: 1.0000\n",
            "Epoch 34/50\n",
            "7/7 [==============================] - 1s 88ms/step - loss: 0.0012 - accuracy: 1.0000\n",
            "Epoch 35/50\n",
            "7/7 [==============================] - 1s 89ms/step - loss: 9.1532e-04 - accuracy: 1.0000\n",
            "Epoch 36/50\n",
            "7/7 [==============================] - 1s 99ms/step - loss: 0.0010 - accuracy: 1.0000\n",
            "Epoch 37/50\n",
            "7/7 [==============================] - 1s 94ms/step - loss: 0.0011 - accuracy: 1.0000\n",
            "Epoch 38/50\n",
            "7/7 [==============================] - 1s 91ms/step - loss: 0.0010 - accuracy: 1.0000\n",
            "Epoch 39/50\n",
            "7/7 [==============================] - 1s 96ms/step - loss: 8.5200e-04 - accuracy: 1.0000\n",
            "Epoch 40/50\n",
            "7/7 [==============================] - 1s 101ms/step - loss: 8.3015e-04 - accuracy: 1.0000\n",
            "Epoch 41/50\n",
            "7/7 [==============================] - 1s 88ms/step - loss: 6.7122e-04 - accuracy: 1.0000\n",
            "Epoch 42/50\n",
            "7/7 [==============================] - 1s 91ms/step - loss: 6.6233e-04 - accuracy: 1.0000\n",
            "Epoch 43/50\n",
            "7/7 [==============================] - 1s 89ms/step - loss: 7.3682e-04 - accuracy: 1.0000\n",
            "Epoch 44/50\n",
            "7/7 [==============================] - 1s 97ms/step - loss: 6.6923e-04 - accuracy: 1.0000\n",
            "Epoch 45/50\n",
            "7/7 [==============================] - 1s 97ms/step - loss: 5.2643e-04 - accuracy: 1.0000\n",
            "Epoch 46/50\n",
            "7/7 [==============================] - 1s 88ms/step - loss: 6.7348e-04 - accuracy: 1.0000\n",
            "Epoch 47/50\n",
            "7/7 [==============================] - 1s 130ms/step - loss: 5.5417e-04 - accuracy: 1.0000\n",
            "Epoch 48/50\n",
            "7/7 [==============================] - 1s 92ms/step - loss: 5.7235e-04 - accuracy: 1.0000\n",
            "Epoch 49/50\n",
            "7/7 [==============================] - 1s 99ms/step - loss: 6.0074e-04 - accuracy: 1.0000\n",
            "Epoch 50/50\n",
            "7/7 [==============================] - 1s 93ms/step - loss: 6.0950e-04 - accuracy: 1.0000\n"
          ],
          "name": "stdout"
        }
      ]
    },
    {
      "cell_type": "code",
      "metadata": {
        "id": "0ZDUieqZFhQd",
        "outputId": "88f3fb17-9c3d-4d0f-afd7-149d91f5e72c"
      },
      "source": [
        "testX = testX.reshape(list(testX.shape) + [1]) \n",
        "import time\n",
        "t1 = time.time()\n",
        "result = model_CNN.predict_classes(testX)\n",
        "t2 = time.time()\n",
        "print( 'Time taken was {} seconds'.format( t2 - t1))"
      ],
      "execution_count": null,
      "outputs": [
        {
          "output_type": "stream",
          "text": [
            "Time taken was 0.15149807929992676 seconds\n"
          ],
          "name": "stdout"
        }
      ]
    },
    {
      "cell_type": "code",
      "metadata": {
        "id": "I0eAYFiyFhQd",
        "outputId": "1dd02df2-dce0-40e5-ffd8-f8bc51ef8669"
      },
      "source": [
        "acc=accuracy_score(Y_test,result)\n",
        "print(acc)"
      ],
      "execution_count": null,
      "outputs": [
        {
          "output_type": "stream",
          "text": [
            "0.8947368421052632\n"
          ],
          "name": "stdout"
        }
      ]
    },
    {
      "cell_type": "code",
      "metadata": {
        "id": "ejwaHsPSFhQd",
        "outputId": "a9badf37-65f4-42b4-eca5-73de9d32d4ce"
      },
      "source": [
        "testX.shape"
      ],
      "execution_count": null,
      "outputs": [
        {
          "output_type": "execute_result",
          "data": {
            "text/plain": [
              "(114, 90, 36, 1)"
            ]
          },
          "metadata": {
            "tags": []
          },
          "execution_count": 195
        }
      ]
    },
    {
      "cell_type": "markdown",
      "metadata": {
        "id": "2A--POKjFhQe"
      },
      "source": [
        "# Validating Using LSTM"
      ]
    },
    {
      "cell_type": "code",
      "metadata": {
        "id": "MIedMqkQFhQe",
        "outputId": "809503f4-cb86-41b1-8daa-d7e23593a47b"
      },
      "source": [
        "n_timesteps, n_features, n_outputs = trainX.shape[1], trainX.shape[2], testy.shape[1]\n",
        "print(\"Time Steps : \", n_timesteps)\n",
        "print(\"#Features : \", n_features)\n",
        "print(\"#Outputs : \", n_outputs)"
      ],
      "execution_count": null,
      "outputs": [
        {
          "output_type": "stream",
          "text": [
            "Time Steps :  90\n",
            "#Features :  36\n",
            "#Outputs :  42\n"
          ],
          "name": "stdout"
        }
      ]
    },
    {
      "cell_type": "code",
      "metadata": {
        "id": "18FX0RbFFhQe"
      },
      "source": [
        "from keras.models import Sequential\n",
        "from keras.layers.recurrent import LSTM\n",
        "from keras.layers.convolutional_recurrent import ConvLSTM2D\n",
        "from keras.layers import Dense, Softmax, Dropout\n"
      ],
      "execution_count": null,
      "outputs": []
    },
    {
      "cell_type": "code",
      "metadata": {
        "id": "Mde5kkGnFhQf"
      },
      "source": [
        "def evaluate_model(trainX, trainy, testX, testy):\n",
        "    verbose, epochs, batch_size = 1, 50,32\n",
        "    n_timesteps, n_outputs = trainX.shape[1], testy.shape[1]\n",
        "    model = Sequential()\n",
        "    model.add(LSTM(120, input_shape=(n_timesteps,n_features)))\n",
        "    #model.add(ConvLSTM2D(100, kernel_size=(1,2), input_shape=(None,None,n_timesteps,n_features)))\n",
        "    model.add(Dropout(0.3))\n",
        "    model.add(Dense(100, activation='relu'))\n",
        "    model.add(Dense(n_outputs, activation='softmax'))\n",
        "    model.compile(loss='categorical_crossentropy', optimizer='adam', metrics=['accuracy'])\n",
        "    # fit network\n",
        "    model.fit(trainX, trainy, epochs=epochs, batch_size=batch_size, verbose=verbose)\n",
        "    # evaluate model\n",
        "    _, accuracy = model.evaluate(testX, testy, batch_size=batch_size, verbose=1)\n",
        "    return model"
      ],
      "execution_count": null,
      "outputs": []
    },
    {
      "cell_type": "code",
      "metadata": {
        "id": "-PEHe4wfFhQf"
      },
      "source": [
        "XX_train,XX_valid,YY_train,YY_valid=train_test_split(trainX, trainy, test_size = 0.2, random_state =42)"
      ],
      "execution_count": null,
      "outputs": []
    },
    {
      "cell_type": "code",
      "metadata": {
        "id": "mytLzJrNFhQg",
        "outputId": "56d0ab98-2a73-41f8-8343-74fa41c73281"
      },
      "source": [
        "print(XX_train.shape,XX_valid.shape,YY_train.shape,YY_valid.shape)"
      ],
      "execution_count": null,
      "outputs": [
        {
          "output_type": "stream",
          "text": [
            "(211, 90, 36) (53, 90, 36) (211, 42) (53, 42)\n"
          ],
          "name": "stdout"
        }
      ]
    },
    {
      "cell_type": "code",
      "metadata": {
        "id": "vA1mfdzwFhQg",
        "outputId": "f7933cda-b68c-4674-8147-fa563d7673cf"
      },
      "source": [
        "Y_test.shape"
      ],
      "execution_count": null,
      "outputs": [
        {
          "output_type": "execute_result",
          "data": {
            "text/plain": [
              "(114,)"
            ]
          },
          "metadata": {
            "tags": []
          },
          "execution_count": 189
        }
      ]
    },
    {
      "cell_type": "code",
      "metadata": {
        "id": "jIBFJDb1FhQh",
        "outputId": "9cfb1131-5360-4eb2-f2d5-b266723663e4"
      },
      "source": [
        "model=evaluate_model(XX_train,YY_train,XX_valid,YY_valid)"
      ],
      "execution_count": null,
      "outputs": [
        {
          "output_type": "stream",
          "text": [
            "Epoch 1/50\n",
            "7/7 [==============================] - 5s 69ms/step - loss: 3.6786 - accuracy: 0.0674\n",
            "Epoch 2/50\n",
            "7/7 [==============================] - 0s 68ms/step - loss: 3.3188 - accuracy: 0.3032\n",
            "Epoch 3/50\n",
            "7/7 [==============================] - 0s 67ms/step - loss: 2.9886 - accuracy: 0.5145\n",
            "Epoch 4/50\n",
            "7/7 [==============================] - 0s 61ms/step - loss: 2.6801 - accuracy: 0.5126\n",
            "Epoch 5/50\n",
            "7/7 [==============================] - 0s 68ms/step - loss: 2.3132 - accuracy: 0.6245\n",
            "Epoch 6/50\n",
            "7/7 [==============================] - 0s 70ms/step - loss: 1.9533 - accuracy: 0.6751\n",
            "Epoch 7/50\n",
            "7/7 [==============================] - 0s 72ms/step - loss: 1.5720 - accuracy: 0.7664\n",
            "Epoch 8/50\n",
            "7/7 [==============================] - 0s 69ms/step - loss: 1.2552 - accuracy: 0.7894\n",
            "Epoch 9/50\n",
            "7/7 [==============================] - 1s 74ms/step - loss: 1.0089 - accuracy: 0.8235\n",
            "Epoch 10/50\n",
            "7/7 [==============================] - 1s 75ms/step - loss: 0.8157 - accuracy: 0.8798\n",
            "Epoch 11/50\n",
            "7/7 [==============================] - 1s 72ms/step - loss: 0.7076 - accuracy: 0.8733\n",
            "Epoch 12/50\n",
            "7/7 [==============================] - 0s 70ms/step - loss: 0.4779 - accuracy: 0.9604\n",
            "Epoch 13/50\n",
            "7/7 [==============================] - 0s 63ms/step - loss: 0.5923 - accuracy: 0.9317\n",
            "Epoch 14/50\n",
            "7/7 [==============================] - 0s 66ms/step - loss: 0.4425 - accuracy: 0.9262\n",
            "Epoch 15/50\n",
            "7/7 [==============================] - 0s 65ms/step - loss: 0.3566 - accuracy: 0.9072\n",
            "Epoch 16/50\n",
            "7/7 [==============================] - 0s 67ms/step - loss: 0.3038 - accuracy: 0.9580\n",
            "Epoch 17/50\n",
            "7/7 [==============================] - 0s 67ms/step - loss: 0.2917 - accuracy: 0.9615\n",
            "Epoch 18/50\n",
            "7/7 [==============================] - 1s 73ms/step - loss: 0.2857 - accuracy: 0.9580\n",
            "Epoch 19/50\n",
            "7/7 [==============================] - 0s 60ms/step - loss: 0.1497 - accuracy: 0.9962\n",
            "Epoch 20/50\n",
            "7/7 [==============================] - 0s 64ms/step - loss: 0.1544 - accuracy: 0.9974\n",
            "Epoch 21/50\n",
            "7/7 [==============================] - 1s 76ms/step - loss: 0.1108 - accuracy: 0.9951\n",
            "Epoch 22/50\n",
            "7/7 [==============================] - 0s 68ms/step - loss: 0.1070 - accuracy: 0.9881\n",
            "Epoch 23/50\n",
            "7/7 [==============================] - 0s 64ms/step - loss: 0.0784 - accuracy: 1.0000\n",
            "Epoch 24/50\n",
            "7/7 [==============================] - 0s 64ms/step - loss: 0.0672 - accuracy: 1.0000\n",
            "Epoch 25/50\n",
            "7/7 [==============================] - 0s 70ms/step - loss: 0.0551 - accuracy: 1.0000\n",
            "Epoch 26/50\n",
            "7/7 [==============================] - 0s 60ms/step - loss: 0.0484 - accuracy: 1.0000\n",
            "Epoch 27/50\n",
            "7/7 [==============================] - 0s 62ms/step - loss: 0.0406 - accuracy: 1.0000\n",
            "Epoch 28/50\n",
            "7/7 [==============================] - 0s 66ms/step - loss: 0.0752 - accuracy: 0.9874\n",
            "Epoch 29/50\n",
            "7/7 [==============================] - 0s 61ms/step - loss: 0.0565 - accuracy: 0.9938\n",
            "Epoch 30/50\n",
            "7/7 [==============================] - 0s 69ms/step - loss: 0.0481 - accuracy: 0.9951\n",
            "Epoch 31/50\n",
            "7/7 [==============================] - 0s 63ms/step - loss: 0.0592 - accuracy: 0.9843\n",
            "Epoch 32/50\n",
            "7/7 [==============================] - 0s 70ms/step - loss: 0.0502 - accuracy: 0.9952\n",
            "Epoch 33/50\n",
            "7/7 [==============================] - 0s 69ms/step - loss: 0.0434 - accuracy: 0.9925\n",
            "Epoch 34/50\n",
            "7/7 [==============================] - 0s 62ms/step - loss: 0.0685 - accuracy: 0.9767\n",
            "Epoch 35/50\n",
            "7/7 [==============================] - 0s 67ms/step - loss: 0.0586 - accuracy: 0.9780\n",
            "Epoch 36/50\n",
            "7/7 [==============================] - 0s 65ms/step - loss: 0.0701 - accuracy: 0.9676\n",
            "Epoch 37/50\n",
            "7/7 [==============================] - 0s 64ms/step - loss: 0.0694 - accuracy: 0.9817\n",
            "Epoch 38/50\n",
            "7/7 [==============================] - 1s 93ms/step - loss: 0.0971 - accuracy: 0.9618\n",
            "Epoch 39/50\n",
            "7/7 [==============================] - 1s 118ms/step - loss: 0.0413 - accuracy: 0.9884\n",
            "Epoch 40/50\n",
            "7/7 [==============================] - 0s 62ms/step - loss: 0.0386 - accuracy: 0.9892\n",
            "Epoch 41/50\n",
            "7/7 [==============================] - 1s 74ms/step - loss: 0.0335 - accuracy: 0.9951\n",
            "Epoch 42/50\n",
            "7/7 [==============================] - 0s 69ms/step - loss: 0.0211 - accuracy: 1.0000\n",
            "Epoch 43/50\n",
            "7/7 [==============================] - 0s 63ms/step - loss: 0.0235 - accuracy: 0.9988\n",
            "Epoch 44/50\n",
            "7/7 [==============================] - 0s 71ms/step - loss: 0.0426 - accuracy: 0.9910\n",
            "Epoch 45/50\n",
            "7/7 [==============================] - 1s 72ms/step - loss: 0.0677 - accuracy: 0.9788\n",
            "Epoch 46/50\n",
            "7/7 [==============================] - 1s 163ms/step - loss: 0.0337 - accuracy: 0.9974\n",
            "Epoch 47/50\n",
            "7/7 [==============================] - 1s 83ms/step - loss: 0.0511 - accuracy: 0.9905\n",
            "Epoch 48/50\n",
            "7/7 [==============================] - 0s 69ms/step - loss: 0.0347 - accuracy: 1.0000\n",
            "Epoch 49/50\n",
            "7/7 [==============================] - 1s 78ms/step - loss: 0.0281 - accuracy: 1.0000\n",
            "Epoch 50/50\n",
            "7/7 [==============================] - 1s 76ms/step - loss: 0.0202 - accuracy: 0.9988\n",
            "2/2 [==============================] - 1s 28ms/step - loss: 0.7819 - accuracy: 0.8491\n"
          ],
          "name": "stdout"
        }
      ]
    },
    {
      "cell_type": "code",
      "metadata": {
        "id": "CCg49yIcFhQh",
        "outputId": "e0a02d19-e406-439e-98f5-a80a6b093b80"
      },
      "source": [
        "\n",
        "import time\n",
        "t1 = time.time()\n",
        "result = model.predict_classes(testX)\n",
        "t2 = time.time()\n",
        "print( 'Time taken was {} seconds'.format( t2 - t1))\n"
      ],
      "execution_count": null,
      "outputs": [
        {
          "output_type": "stream",
          "text": [
            "Time taken was 2.696404218673706 seconds\n"
          ],
          "name": "stdout"
        }
      ]
    },
    {
      "cell_type": "code",
      "metadata": {
        "id": "sT0nK5OeFhQh",
        "outputId": "36780b53-1ff0-4ecb-f6ca-35ba358c2e26"
      },
      "source": [
        "acc=accuracy_score(Y_test,result)\n",
        "print(acc)"
      ],
      "execution_count": null,
      "outputs": [
        {
          "output_type": "stream",
          "text": [
            "0.9298245614035088\n"
          ],
          "name": "stdout"
        }
      ]
    },
    {
      "cell_type": "markdown",
      "metadata": {
        "id": "IN2moaNvFhQi"
      },
      "source": [
        "# Testing sentences"
      ]
    },
    {
      "cell_type": "code",
      "metadata": {
        "id": "36tx813kFhQi"
      },
      "source": [
        "immartix=[]\n",
        "Y1=[]\n",
        "T=[]\n",
        "import random\n",
        "\n",
        "def preprocess_leapData():\n",
        "    global immartix\n",
        "    global Y1\n",
        "    path=r'C:\\Users\\Niteesh\\Desktop\\6th Sem\\HCI\\hcidatasetandnotebookfile\\Test_Dataset2'\n",
        "    for folder in os.listdir(r'C:\\Users\\Niteesh\\Desktop\\6th Sem\\HCI\\hcidatasetandnotebookfile\\Test_Dataset2'):\n",
        "       # print(folder)\n",
        "        if folder=='.ipynb_checkpoints' or folder=='.DS_Store':\n",
        "            continue\n",
        "        path1=path+'/'+folder\n",
        "        for filename in os.listdir(path1):\n",
        "           # print(filename)\n",
        "            if filename=='.ipynb_checkpoints' or filename=='.DS_Store':\n",
        "                continue\n",
        "#             print(path1+filename)\n",
        "            T.append([path1,filename])\n",
        "\n",
        "    random.shuffle(T)\n",
        "    print(T)\n",
        "    for i in range(len(T)):\n",
        "        path1=T[i][0]\n",
        "        filename=T[i][1]\n",
        "        fp=open(path1+'/'+filename,'r')\n",
        "        arr=fp.readlines()\n",
        "        # print(arr)\n",
        "        fp.close()\n",
        "        temp=[]\n",
        "        for i in range(len(arr)):\n",
        "            curr=arr[i]\n",
        "            brr=do_split(curr)\n",
        "            temp.append(brr)\n",
        "\n",
        "        immartix.append(temp)\n",
        "        alp=filename.split('_')\n",
        "        Y1.append(alp[0])\n",
        "\n"
      ],
      "execution_count": null,
      "outputs": []
    },
    {
      "cell_type": "code",
      "metadata": {
        "id": "TxW5x12JFhQj"
      },
      "source": [
        "import collections\n",
        "mapping=collections.defaultdict(list)\n",
        "def pre_process_sentence_data():\n",
        "    path=r'sentence_data2'\n",
        "    for filename in os.listdir(r'sentence_data2'):\n",
        "        if filename=='.ipynb_checkpoints' or filename=='.DS_Store':\n",
        "            continue\n",
        "        fp=open(path+'\\\\' + filename,'r')\n",
        "        arr=fp.readlines()\n",
        "        fp.close()\n",
        "        temp=[]\n",
        "#         print(arr)\n",
        "        for i in range(len(arr)):\n",
        "            curr=arr[i]\n",
        "            brr=do_split(curr)\n",
        "            temp.append(brr)\n",
        "        alp=filename.split('.')\n",
        "        \n",
        "        mapping[alp[0]]=temp\n",
        "        \n",
        "pre_process_sentence_data()\n",
        "            \n",
        "        \n",
        "    \n"
      ],
      "execution_count": null,
      "outputs": []
    },
    {
      "cell_type": "code",
      "metadata": {
        "tags": [
          "outputPrepend"
        ],
        "id": "3ZfC2hqaFhQl",
        "outputId": "d9c91230-8ec8-4a15-bbb2-31f3784dd9ad"
      },
      "source": [
        "print(mapping)"
      ],
      "execution_count": null,
      "outputs": [
        {
          "output_type": "stream",
          "text": [
            "6, -79.3762, 219.833, -30.5281, -19.312, 360.331, 25.7382]], 'YOU': [[35.6995, 205.853, 19.3527, 23.7354, 271.021, -21.3922, 7.98199, 270.07, -34.8256, 35.4593, 184.618, -0.677698, -48.6415, 214.284, -15.1312, 0, 0, 0, 0, 0, 0, 0, 0, 0, 0, 0, 0, 0, 0, 0, 8.60351, 213.711, 64.3997, 0, 0, 0], [36.1952, 205.922, 19.2494, 23.761, 272.031, -21.319, 8.42188, 270.4, -35.0831, 35.945, 184.487, -0.629874, -48.1869, 214.337, -15.4728, 0, 0, 0, 0, 0, 0, 0, 0, 0, 0, 0, 0, 0, 0, 0, 8.90211, 214.002, 64.182, 0, 0, 0], [36.5405, 205.99, 19.1814, 23.8807, 272.491, -21.3556, 8.67139, 270.72, -35.1887, 36.2585, 184.42, -0.602121, -47.8993, 214.415, -15.6845, 0, 0, 0, 0, 0, 0, 0, 0, 0, 0, 0, 0, 0, 0, 0, 9.09494, 214.187, 64.0456, 0, 0, 0], [36.8636, 206.043, 19.1059, 24.0556, 272.769, -21.482, 8.93719, 271.073, -35.2794, 36.5626, 184.333, -0.574565, -47.6244, 214.482, -15.886, 0, 0, 0, 0, 0, 0, 0, 0, 0, 0, 0, 0, 0, 0, 0, 9.29482, 214.367, 63.9072, 0, 0, 0], [37.0647, 206.046, 19.087, 24.1889, 272.947, -21.5397, 9.08106, 271.509, -35.2167, 36.7904, 184.262, -0.529912, -47.4225, 214.533, -16.0177, 0, 0, 0, 0, 0, 0, 0, 0, 0, 0, 0, 0, 0, 0, 0, 9.43071, 214.473, 63.8316, 0, 0, 0], [37.2381, 205.965, 19.0217, 24.2886, 272.922, -21.7174, 9.18627, 271.774, -35.2481, 36.9591, 184.088, -0.510228, -47.2863, 214.486, -16.1427, 0, 0, 0, 0, 0, 0, 0, 0, 0, 0, 0, 0, 0, 0, 0, 9.55093, 214.525, 63.7254, 0, 0, 0], [37.448, 206.015, 18.9974, 24.3739, 272.962, -21.8717, 9.29193, 272.048, -35.2858, 37.2243, 184.016, -0.437582, -47.1092, 214.43, -16.2764, 0, 0, 0, 0, 0, 0, 0, 0, 0, 0, 0, 0, 0, 0, 0, 9.66838, 214.647, 63.6442, 0, 0, 0], [37.6496, 206.041, 18.9679, 24.4456, 272.991, -22.0094, 9.42524, 272.249, -35.3389, 37.4541, 183.926, -0.373072, -46.9496, 214.396, -16.3877, 0, 0, 0, 0, 0, 0, 0, 0, 0, 0, 0, 0, 0, 0, 0, 9.78434, 214.745, 63.5703, 0, 0, 0], [37.8551, 205.944, 18.9008, 24.5223, 273.007, -22.194, 9.63796, 272.32, -35.4969, 37.6593, 183.733, -0.338132, -46.7848, 214.364, -16.5177, 0, 0, 0, 0, 0, 0, 0, 0, 0, 0, 0, 0, 0, 0, 0, 9.94041, 214.825, 63.4525, 0, 0, 0], [37.9844, 205.745, 18.7698, 24.5206, 272.879, -22.4792, 9.72348, 272.306, -35.7031, 37.7377, 183.404, -0.337922, -46.7122, 214.244, -16.6114, 0, 0, 0, 0, 0, 0, 0, 0, 0, 0, 0, 0, 0, 0, 0, 10.0852, 214.853, 63.3073, 0, 0, 0], [38.1067, 205.596, 18.6821, 24.4425, 272.86, -22.6856, 9.77046, 272.323, -35.8709, 37.8467, 183.173, -0.332307, -46.6348, 214.143, -16.6883, 0, 0, 0, 0, 0, 0, 0, 0, 0, 0, 0, 0, 0, 0, 0, 10.2168, 214.896, 63.1876, 0, 0, 0], [38.2141, 205.433, 18.5523, 24.3077, 272.96, -22.8373, 9.81433, 272.411, -36.011, 37.9041, 182.939, -0.378359, -46.5733, 214.122, -16.741, 0, 0, 0, 0, 0, 0, 0, 0, 0, 0, 0, 0, 0, 0, 0, 10.3823, 214.935, 63.0527, 0, 0, 0], [38.3041, 205.376, 18.512, 24.2255, 273.077, -22.8855, 9.85348, 272.787, -35.9185, 37.9845, 182.84, -0.369112, -46.4928, 214.122, -16.7835, 0, 0, 0, 0, 0, 0, 0, 0, 0, 0, 0, 0, 0, 0, 0, 10.4769, 214.983, 62.9945, 0, 0, 0], [38.3823, 205.315, 18.4878, 24.1752, 273.197, -22.9118, 9.90351, 273.171, -35.8057, 38.0536, 182.74, -0.345994, -46.4262, 214.155, -16.8188, 0, 0, 0, 0, 0, 0, 0, 0, 0, 0, 0, 0, 0, 0, 0, 10.5524, 215.026, 62.9484, 0, 0, 0], [38.459, 205.237, 18.4555, 24.1719, 273.266, -22.9616, 9.98685, 273.516, -35.711, 38.1144, 182.626, -0.333996, -46.3682, 214.205, -16.8524, 0, 0, 0, 0, 0, 0, 0, 0, 0, 0, 0, 0, 0, 0, 0, 10.6304, 215.055, 62.8953, 0, 0, 0], [38.5396, 205.17, 18.4286, 24.2507, 273.215, -23.07, 10.0662, 273.865, -35.6084, 38.1958, 182.521, -0.314391, -46.298, 214.215, -16.9021, 0, 0, 0, 0, 0, 0, 0, 0, 0, 0, 0, 0, 0, 0, 0, 10.6978, 215.079, 62.8431, 0, 0, 0], [38.6352, 205.134, 18.4325, 24.3457, 273.09, -23.1978, 10.168, 274.035, -35.5868, 38.3563, 182.439, -0.254785, -46.2215, 214.167, -16.9672, 0, 0, 0, 0, 0, 0, 0, 0, 0, 0, 0, 0, 0, 0, 0, 10.7388, 215.093, 62.8016, 0, 0, 0], [38.7597, 205.063, 18.3494, 24.5283, 272.984, -23.418, 10.3425, 274.112, -35.7123, 38.4747, 182.313, -0.270263, -46.1149, 214.245, -17.0526, 0, 0, 0, 0, 0, 0, 0, 0, 0, 0, 0, 0, 0, 0, 0, 10.867, 215.157, 62.692, 0, 0, 0], [38.8614, 205.042, 18.324, 24.6703, 272.896, -23.5911, 10.4648, 274.217, -35.7897, 38.6009, 182.238, -0.231739, -46.0089, 214.289, -17.1405, 0, 0, 0, 0, 0, 0, 0, 0, 0, 0, 0, 0, 0, 0, 0, 10.9327, 215.239, 62.6227, 0, 0, 0], [38.9428, 205.022, 18.3071, 24.7606, 272.873, -23.7029, 10.5814, 274.406, -35.7907, 38.7066, 182.179, -0.197187, -45.9195, 214.355, -17.2031, 0, 0, 0, 0, 0, 0, 0, 0, 0, 0, 0, 0, 0, 0, 0, 10.9899, 215.305, 62.571, 0, 0, 0], [38.9967, 205.006, 18.294, 24.7923, 272.874, -23.769, 10.5841, 274.666, -35.7173, 38.7792, 182.133, -0.169223, -45.8653, 214.392, -17.2356, 0, 0, 0, 0, 0, 0, 0, 0, 0, 0, 0, 0, 0, 0, 0, 11.0294, 215.345, 62.539, 0, 0, 0], [39.0461, 204.946, 18.2771, 24.8588, 272.803, -23.857, 10.5877, 274.852, -35.6678, 38.8336, 182.044, -0.14609, -45.8056, 214.383, -17.2698, 0, 0, 0, 0, 0, 0, 0, 0, 0, 0, 0, 0, 0, 0, 0, 11.0751, 215.355, 62.5063, 0, 0, 0], [39.1314, 204.853, 18.2498, 24.9287, 272.758, -23.9436, 10.7251, 274.845, -35.7339, 38.9151, 181.911, -0.123124, -45.7013, 214.327, -17.329, 0, 0, 0, 0, 0, 0, 0, 0, 0, 0, 0, 0, 0, 0, 0, 11.1558, 215.354, 62.4591, 0, 0, 0], [39.218, 204.751, 18.2213, 25.0019, 272.693, -24.0363, 10.8787, 274.769, -35.8326, 39.0063, 181.765, -0.0981046, -45.5853, 214.219, -17.4024, 0, 0, 0, 0, 0, 0, 0, 0, 0, 0, 0, 0, 0, 0, 0, 11.2357, 215.339, 62.4089, 0, 0, 0], [39.3317, 204.453, 18.1358, 25.1133, 272.483, -24.2682, 11.13, 274.463, -36.1148, 39.0923, 181.396, -0.0865669, -45.4332, 213.981, -17.5427, 0, 0, 0, 0, 0, 0, 0, 0, 0, 0, 0, 0, 0, 0, 0, 11.3647, 215.266, 62.2805, 0, 0, 0], [39.4304, 204.206, 18.0645, 25.1646, 272.366, -24.4323, 11.3204, 274.263, -36.3193, 39.1636, 181.09, -0.0759669, -45.3059, 213.792, -17.6584, 0, 0, 0, 0, 0, 0, 0, 0, 0, 0, 0, 0, 0, 0, 0, 11.4721, 215.205, 62.1736, 0, 0, 0], [39.5042, 203.988, 18.0055, 25.1314, 272.314, -24.548, 11.4319, 274.087, -36.4935, 39.2189, 180.812, -0.0520904, -45.2139, 213.602, -17.7542, 0, 0, 0, 0, 0, 0, 0, 0, 0, 0, 0, 0, 0, 0, 0, 11.5449, 215.147, 62.0846, 0, 0, 0], [39.5499, 203.896, 17.9991, 25.028, 272.374, -24.5628, 11.476, 274.006, -36.5778, 39.2869, 180.682, -0.000933995, -45.1501, 213.496, -17.8057, 0, 0, 0, 0, 0, 0, 0, 0, 0, 0, 0, 0, 0, 0, 0, 11.5706, 215.135, 62.0522, 0, 0, 0], [39.5839, 203.822, 17.9938, 24.9688, 272.424, -24.5759, 11.5433, 273.902, -36.6652, 39.341, 180.579, 0.039873, -45.1059, 213.439, -17.8404, 0, 0, 0, 0, 0, 0, 0, 0, 0, 0, 0, 0, 0, 0, 0, 11.591, 215.125, 62.0265, 0, 0, 0], [39.6352, 203.677, 17.9695, 24.9372, 272.405, -24.6467, 11.6337, 273.701, -36.82, 39.3931, 180.393, 0.0719832, -45.0497, 213.332, -17.8843, 0, 0, 0, 0, 0, 0, 0, 0, 0, 0, 0, 0, 0, 0, 0, 11.6417, 215.089, 61.9749, 0, 0, 0], [39.6744, 203.572, 17.9575, 24.9196, 272.374, -24.709, 11.6904, 273.575, -36.9223, 39.4396, 180.254, 0.107736, -45.0134, 213.262, -17.9101, 0, 0, 0, 0, 0, 0, 0, 0, 0, 0, 0, 0, 0, 0, 0, 11.6756, 215.065, 61.9401, 0, 0, 0], [39.7204, 203.36, 17.8854, 24.9054, 272.345, -24.8038, 11.8225, 273.382, -37.0921, 39.4495, 179.992, 0.102914, -44.9732, 213.166, -17.9553, 0, 0, 0, 0, 0, 0, 0, 0, 0, 0, 0, 0, 0, 0, 0, 11.7546, 215.0, 61.8559, 0, 0, 0], [39.7963, 203.201, 17.8237, 24.8935, 272.442, -24.8326, 11.9701, 273.233, -37.2391, 39.4992, 179.784, 0.104708, -44.9074, 213.095, -18.0036, 0, 0, 0, 0, 0, 0, 0, 0, 0, 0, 0, 0, 0, 0, 0, 11.8447, 214.959, 61.7813, 0, 0, 0], [39.8674, 203.17, 17.8115, 24.9337, 272.435, -24.8785, 12.0843, 273.213, -37.2875, 39.5834, 179.713, 0.142473, -44.8469, 213.076, -18.0334, 0, 0, 0, 0, 0, 0, 0, 0, 0, 0, 0, 0, 0, 0, 0, 11.8883, 214.965, 61.7569, 0, 0, 0], [39.9389, 203.142, 17.7844, 24.9843, 272.4, -24.9419, 12.1965, 273.208, -37.3301, 39.6639, 179.641, 0.165689, -44.788, 213.057, -18.0579, 0, 0, 0, 0, 0, 0, 0, 0, 0, 0, 0, 0, 0, 0, 0, 11.9449, 214.966, 61.7272, 0, 0, 0], [40.0013, 203.105, 17.7625, 25.0344, 272.359, -25.0139, 12.3149, 273.233, -37.3628, 39.7385, 179.576, 0.181343, -44.736, 213.035, -18.0839, 0, 0, 0, 0, 0, 0, 0, 0, 0, 0, 0, 0, 0, 0, 0, 12.0003, 214.973, 61.6939, 0, 0, 0], [40.0522, 203.147, 17.783, 25.0751, 272.353, -25.056, 12.4006, 273.282, -37.3755, 39.8512, 179.598, 0.237248, -44.664, 213.011, -18.1111, 0, 0, 0, 0, 0, 0, 0, 0, 0, 0, 0, 0, 0, 0, 0, 12.03, 215.028, 61.6929, 0, 0, 0], [40.1172, 203.187, 17.8035, 25.1141, 272.367, -25.0812, 12.4885, 273.335, -37.3779, 39.9515, 179.622, 0.279255, -44.6117, 213.015, -18.1232, 0, 0, 0, 0, 0, 0, 0, 0, 0, 0, 0, 0, 0, 0, 0, 12.0635, 215.074, 61.693, 0, 0, 0], [40.159, 203.176, 17.7829, 25.1621, 272.331, -25.1461, 12.5721, 273.355, -37.4119, 40.0046, 179.595, 0.281276, -44.5757, 213.008, -18.1485, 0, 0, 0, 0, 0, 0, 0, 0, 0, 0, 0, 0, 0, 0, 0, 12.1035, 215.091, 61.6637, 0, 0, 0], [40.2203, 203.149, 17.7321, 25.2301, 272.271, -25.2526, 12.6472, 273.354, -37.4857, 40.0666, 179.549, 0.256895, -44.517, 212.986, -18.1986, 0, 0, 0, 0, 0, 0, 0, 0, 0, 0, 0, 0, 0, 0, 0, 12.1681, 215.105, 61.6059, 0, 0, 0], [40.2807, 203.211, 17.7174, 25.2644, 272.319, -25.2881, 12.7066, 273.437, -37.5019, 40.1774, 179.61, 0.264079, -44.4367, 212.998, -18.2463, 0, 0, 0, 0, 0, 0, 0, 0, 0, 0, 0, 0, 0, 0, 0, 12.2089, 215.165, 61.5817, 0, 0, 0], [40.3236, 203.213, 17.6976, 25.3266, 272.31, -25.3413, 12.7964, 273.48, -37.5276, 40.2621, 179.611, 0.272302, -44.3636, 213.0, -18.2887, 0, 0, 0, 0, 0, 0, 0, 0, 0, 0, 0, 0, 0, 0, 0, 12.2542, 215.197, 61.5546, 0, 0, 0], [40.3352, 203.197, 17.674, 25.3819, 272.298, -25.3886, 12.884, 273.512, -37.553, 40.3353, 179.612, 0.279499, -44.3012, 213.019, -18.3228, 0, 0, 0, 0, 0, 0, 0, 0, 0, 0, 0, 0, 0, 0, 0, 12.2931, 215.224, 61.5312, 0, 0, 0], [40.3823, 203.23, 17.6551, 25.4097, 272.316, -25.4346, 12.9428, 273.563, -37.5778, 40.4361, 179.648, 0.293566, -44.2296, 213.041, -18.3531, 0, 0, 0, 0, 0, 0, 0, 0, 0, 0, 0, 0, 0, 0, 0, 12.3369, 215.274, 61.5108, 0, 0, 0], [40.4041, 203.238, 17.6331, 25.4375, 272.325, -25.4771, 13.011, 273.582, -37.6126, 40.5229, 179.673, 0.308093, -44.1672, 213.058, -18.3791, 0, 0, 0, 0, 0, 0, 0, 0, 0, 0, 0, 0, 0, 0, 0, 12.3754, 215.317, 61.4933, 0, 0, 0], [40.4354, 203.259, 17.6121, 25.4609, 272.335, -25.5134, 13.0749, 273.615, -37.634, 40.5976, 179.694, 0.320687, -44.1074, 213.059, -18.4066, 0, 0, 0, 0, 0, 0, 0, 0, 0, 0, 0, 0, 0, 0, 0, 12.4085, 215.353, 61.4782, 0, 0, 0], [40.4327, 203.268, 17.5604, 25.524, 272.358, -25.5745, 13.1974, 273.675, -37.6745, 40.6522, 179.718, 0.311879, -44.065, 213.198, -18.4246, 0, 0, 0, 0, 0, 0, 0, 0, 0, 0, 0, 0, 0, 0, 0, 12.4569, 215.416, 61.4438, 0, 0, 0], [40.4194, 203.257, 17.5348, 25.5426, 272.362, -25.6065, 13.2262, 273.696, -37.6971, 40.6771, 179.726, 0.307085, -44.0451, 213.267, -18.4343, 0, 0, 0, 0, 0, 0, 0, 0, 0, 0, 0, 0, 0, 0, 0, 12.4744, 215.441, 61.4257, 0, 0, 0], [40.4255, 203.228, 17.511, 25.5789, 272.337, -25.6616, 13.2828, 273.687, -37.7419, 40.7303, 179.711, 0.315968, -43.9928, 213.3, -18.4597, 0, 0, 0, 0, 0, 0, 0, 0, 0, 0, 0, 0, 0, 0, 0, 12.5047, 215.464, 61.4024, 0, 0, 0], [40.4177, 203.095, 17.4447, 25.5316, 272.258, -25.7698, 13.3061, 273.587, -37.847, 40.7253, 179.568, 0.300427, -43.9823, 213.235, -18.4784, 0, 0, 0, 0, 0, 0, 0, 0, 0, 0, 0, 0, 0, 0, 0, 12.5486, 215.431, 61.3443, 0, 0, 0], [40.3697, 202.633, 17.2352, 25.3685, 272.195, -25.8934, 13.3406, 273.345, -38.0446, 40.5835, 179.081, 0.178409, -44.0081, 213.1, -18.4955, 0, 0, 0, 0, 0, 0, 0, 0, 0, 0, 0, 0, 0, 0, 0, 12.6856, 215.226, 61.1849, 0, 0, 0], [39.4382, 200.545, 15.2165, 24.9241, 272.051, -26.4411, 13.3006, 272.906, -38.7865, 38.7434, 177.208, -1.95825, -45.0272, 213.845, -18.7446, 0, 0, 0, 0, 0, 0, 0, 0, 0, 0, 0, 0, 0, 0, 0, 13.1356, 213.719, 59.8296, 0, 0, 0], [38.5244, 198.25, 13.3339, 24.4492, 271.878, -26.8159, 13.2198, 272.703, -39.2444, 37.1459, 175.205, -3.89109, -45.6545, 214.148, -19.1801, 0, 0, 0, 0, 0, 0, 0, 0, 0, 0, 0, 0, 0, 0, 0, 13.5233, 212.034, 58.4963, 0, 0, 0], [37.9031, 196.972, 12.4674, 24.1861, 272.076, -26.745, 13.1705, 273.068, -39.1329, 36.3888, 174.221, -4.7395, -45.7626, 214.344, -19.4298, 0, 0, 0, 0, 0, 0, 0, 0, 0, 0, 0, 0, 0, 0, 0, 13.7056, 211.221, 57.8949, 0, 0, 0], [30.3504, 188.521, 13.9449, 23.9761, 272.269, -26.6267, 13.0034, 273.575, -38.8561, 35.9735, 173.695, -5.16896, -45.7491, 214.45, -19.5796, 0, 0, 0, 0, 0, 0, 0, 0, 0, 0, 0, 0, 0, 0, 0, 13.7861, 210.786, 57.5892, 0, 0, 0], [24.4023, 182.721, 15.29, 23.7496, 272.719, -26.3612, 12.9486, 274.093, -38.6047, 35.4534, 173.272, -5.57974, -45.81, 214.772, -19.6632, 0, 0, 0, 0, 0, 0, 0, 0, 0, 0, 0, 0, 0, 0, 0, 13.834, 210.467, 57.3149, 0, 0, 0], [22.5942, 180.636, 15.408, 23.5829, 272.961, -26.248, 12.877, 274.528, -38.4088, 34.9808, 172.855, -5.94301, -45.8464, 214.993, -19.7693, 0, 0, 0, 0, 0, 0, 0, 0, 0, 0, 0, 0, 0, 0, 0, 13.8677, 210.178, 57.0484, 0, 0, 0], [20.9131, 178.976, 15.673, 23.5029, 273.105, -26.2041, 12.8535, 274.861, -38.282, 34.5773, 172.46, -6.24719, -45.8552, 215.161, -19.9279, 0, 0, 0, 0, 0, 0, 0, 0, 0, 0, 0, 0, 0, 0, 0, 13.8615, 209.92, 56.7953, 0, 0, 0], [20.4004, 178.203, 15.6004, 23.4018, 273.286, -26.1862, 12.8366, 275.134, -38.2397, 34.3347, 172.118, -6.51224, -45.8114, 215.182, -20.1647, 0, 0, 0, 0, 0, 0, 0, 0, 0, 0, 0, 0, 0, 0, 0, 13.8661, 209.716, 56.5286, 0, 0, 0], [19.4271, 177.331, 15.5477, 23.1701, 273.869, -26.0393, 12.896, 275.563, -38.272, 33.8608, 171.753, -6.90216, -45.8423, 215.427, -20.4599, 0, 0, 0, 0, 0, 0, 0, 0, 0, 0, 0, 0, 0, 0, 0, 13.8435, 209.592, 56.1393, 0, 0, 0], [19.1958, 177.083, 15.4464, 23.0372, 274.128, -25.988, 12.8726, 275.709, -38.3229, 33.6622, 171.589, -7.08349, -45.88, 215.491, -20.5783, 0, 0, 0, 0, 0, 0, 0, 0, 0, 0, 0, 0, 0, 0, 0, 13.8483, 209.538, 55.9563, 0, 0, 0], [18.66, 176.478, 15.4444, 22.826, 274.6, -25.8699, 12.8679, 275.908, -38.4369, 33.4225, 171.271, -7.33526, -45.8618, 215.461, -20.8415, 0, 0, 0, 0, 0, 0, 0, 0, 0, 0, 0, 0, 0, 0, 0, 13.8629, 209.444, 55.649, 0, 0, 0], [18.3274, 176.119, 15.2819, 22.6772, 275.1, -25.7473, 12.8649, 276.215, -38.4924, 33.0995, 170.983, -7.61488, -45.8889, 215.554, -21.064, 0, 0, 0, 0, 0, 0, 0, 0, 0, 0, 0, 0, 0, 0, 0, 13.8776, 209.375, 55.3401, 0, 0, 0], [17.9355, 175.733, 15.1711, 22.5634, 275.531, -25.6317, 12.8841, 276.492, -38.5266, 32.8233, 170.698, -7.83398, -45.9089, 215.605, -21.2718, 0, 0, 0, 0, 0, 0, 0, 0, 0, 0, 0, 0, 0, 0, 0, 13.8812, 209.309, 55.072, 0, 0, 0], [17.6982, 175.473, 15.0707, 22.4651, 275.892, -25.5191, 12.8922, 276.789, -38.4951, 32.6061, 170.465, -7.99582, -45.9433, 215.643, -21.429, 0, 0, 0, 0, 0, 0, 0, 0, 0, 0, 0, 0, 0, 0, 0, 13.8819, 209.258, 54.8633, 0, 0, 0], [17.5011, 175.218, 14.9838, 22.384, 276.16, -25.4729, 12.87, 277.062, -38.4749, 32.4136, 170.223, -8.13754, -45.9413, 215.643, -21.5949, 0, 0, 0, 0, 0, 0, 0, 0, 0, 0, 0, 0, 0, 0, 0, 13.8908, 209.212, 54.6608, 0, 0, 0], [17.3583, 175.036, 14.8877, 22.3224, 276.363, -25.4528, 12.8455, 277.295, -38.4581, 32.2447, 170.011, -8.25303, -45.9293, 215.643, -21.7385, 0, 0, 0, 0, 0, 0, 0, 0, 0, 0, 0, 0, 0, 0, 0, 13.8967, 209.173, 54.4889, 0, 0, 0], [17.1345, 174.79, 14.8585, 22.2495, 276.593, -25.3864, 12.8225, 277.51, -38.4288, 32.1022, 169.829, -8.34168, -45.9064, 215.638, -21.8694, 0, 0, 0, 0, 0, 0, 0, 0, 0, 0, 0, 0, 0, 0, 0, 13.8926, 209.143, 54.3455, 0, 0, 0], [17.0088, 174.623, 14.8067, 22.176, 276.821, -25.308, 12.8021, 277.732, -38.3803, 31.9782, 169.659, -8.41596, -45.8871, 215.627, -21.9862, 0, 0, 0, 0, 0, 0, 0, 0, 0, 0, 0, 0, 0, 0, 0, 13.8917, 209.115, 54.2173, 0, 0, 0], [16.8717, 174.486, 14.7281, 22.1018, 277.019, -25.251, 12.7691, 277.944, -38.3378, 31.8161, 169.487, -8.50309, -45.9069, 215.645, -22.0748, 0, 0, 0, 0, 0, 0, 0, 0, 0, 0, 0, 0, 0, 0, 0, 13.8933, 209.086, 54.0873, 0, 0, 0], [16.776, 174.359, 14.6608, 22.0895, 277.147, -25.2469, 12.744, 278.146, -38.2947, 31.7014, 169.329, -8.56371, -45.8846, 215.646, -22.18, 0, 0, 0, 0, 0, 0, 0, 0, 0, 0, 0, 0, 0, 0, 0, 13.8995, 209.069, 53.9722, 0, 0, 0], [16.6062, 174.177, 14.6524, 22.1283, 277.313, -25.2069, 12.746, 278.378, -38.2266, 31.6359, 169.213, -8.60445, -45.8155, 215.689, -22.2853, 0, 0, 0, 0, 0, 0, 0, 0, 0, 0, 0, 0, 0, 0, 0, 13.9246, 209.077, 53.8778, 0, 0, 0], [16.5264, 174.056, 14.6535, 22.2158, 277.453, -25.1751, 12.7616, 278.554, -38.1801, 31.6176, 169.129, -8.61519, -45.7325, 215.726, -22.3725, 0, 0, 0, 0, 0, 0, 0, 0, 0, 0, 0, 0, 0, 0, 0, 13.9608, 209.101, 53.8137, 0, 0, 0], [16.4748, 173.953, 14.6604, 22.3267, 277.523, -25.1845, 12.7859, 278.67, -38.1616, 31.6063, 169.053, -8.6164, -45.6503, 215.766, -22.447, 0, 0, 0, 0, 0, 0, 0, 0, 0, 0, 0, 0, 0, 0, 0, 13.9942, 209.122, 53.7636, 0, 0, 0], [16.4203, 173.853, 14.669, 22.4224, 277.587, -25.1862, 12.8014, 278.76, -38.1523, 31.5881, 168.971, -8.61523, -45.5846, 215.79, -22.5133, 0, 0, 0, 0, 0, 0, 0, 0, 0, 0, 0, 0, 0, 0, 0, 14.0243, 209.135, 53.7173, 0, 0, 0], [16.3571, 173.757, 14.677, 22.5013, 277.62, -25.2001, 12.8003, 278.84, -38.1387, 31.5607, 168.885, -8.61185, -45.5286, 215.806, -22.5714, 0, 0, 0, 0, 0, 0, 0, 0, 0, 0, 0, 0, 0, 0, 0, 14.0468, 209.14, 53.6761, 0, 0, 0], [16.2579, 173.619, 14.7046, 22.5127, 277.719, -25.1384, 12.7686, 278.924, -38.1046, 31.515, 168.785, -8.60814, -45.5009, 215.797, -22.6146, 0, 0, 0, 0, 0, 0, 0, 0, 0, 0, 0, 0, 0, 0, 0, 14.0581, 209.128, 53.6392, 0, 0, 0], [16.1652, 173.484, 14.7293, 22.4964, 277.879, -25.0196, 12.7471, 278.945, -38.1133, 31.4598, 168.675, -8.60363, -45.4774, 215.781, -22.6534, 0, 0, 0, 0, 0, 0, 0, 0, 0, 0, 0, 0, 0, 0, 0, 14.069, 209.11, 53.6023, 0, 0, 0], [16.0341, 173.266, 14.782, 22.527, 278.061, -24.8857, 12.7254, 278.937, -38.1453, 31.3922, 168.506, -8.5889, -45.4336, 215.753, -22.7011, 0, 0, 0, 0, 0, 0, 0, 0, 0, 0, 0, 0, 0, 0, 0, 14.1001, 209.08, 53.5546, 0, 0, 0], [16.0062, 173.219, 14.7998, 22.5367, 278.095, -24.8594, 12.7193, 278.939, -38.1479, 31.3819, 168.475, -8.58277, -45.4202, 215.749, -22.7105, 0, 0, 0, 0, 0, 0, 0, 0, 0, 0, 0, 0, 0, 0, 0, 14.1058, 209.075, 53.5478, 0, 0, 0], [15.9464, 173.121, 14.8451, 22.5654, 278.14, -24.8254, 12.6889, 278.957, -38.1366, 31.3654, 168.422, -8.56771, -45.3925, 215.747, -22.7252, 0, 0, 0, 0, 0, 0, 0, 0, 0, 0, 0, 0, 0, 0, 0, 14.1147, 209.068, 53.5396, 0, 0, 0], [15.9087, 173.051, 14.8787, 22.5968, 278.161, -24.8092, 12.6596, 278.977, -38.1223, 31.3507, 168.373, -8.55086, -45.3684, 215.745, -22.7353, 0, 0, 0, 0, 0, 0, 0, 0, 0, 0, 0, 0, 0, 0, 0, 14.1232, 209.063, 53.5348, 0, 0, 0], [15.8625, 172.975, 14.9169, 22.619, 278.19, -24.7837, 12.6158, 279.005, -38.0998, 31.3376, 168.333, -8.5343, -45.3434, 215.751, -22.7419, 0, 0, 0, 0, 0, 0, 0, 0, 0, 0, 0, 0, 0, 0, 0, 14.1302, 209.059, 53.5328, 0, 0, 0], [15.8339, 172.924, 14.9388, 22.6353, 278.21, -24.7653, 12.57, 279.042, -38.0684, 31.3295, 168.307, -8.52049, -45.3203, 215.761, -22.7471, 0, 0, 0, 0, 0, 0, 0, 0, 0, 0, 0, 0, 0, 0, 0, 14.1326, 209.057, 53.5337, 0, 0, 0], [15.7894, 172.862, 14.9649, 22.6533, 278.231, -24.7467, 12.5147, 279.082, -38.0342, 31.3217, 168.281, -8.5073, -45.3042, 215.762, -22.7516, 0, 0, 0, 0, 0, 0, 0, 0, 0, 0, 0, 0, 0, 0, 0, 14.1349, 209.055, 53.5345, 0, 0, 0], [15.7578, 172.821, 14.9826, 22.6794, 278.206, -24.7604, 12.4805, 279.084, -38.027, 31.2932, 168.232, -8.48786, -45.284, 215.768, -22.7572, 0, 0, 0, 0, 0, 0, 0, 0, 0, 0, 0, 0, 0, 0, 0, 14.1339, 209.048, 53.5339, 0, 0, 0], [15.7209, 172.77, 14.999, 22.6962, 278.226, -24.7347, 12.456, 279.069, -38.0319, 31.2558, 168.168, -8.46678, -45.262, 215.775, -22.7621, 0, 0, 0, 0, 0, 0, 0, 0, 0, 0, 0, 0, 0, 0, 0, 14.1363, 209.037, 53.5313, 0, 0, 0], [15.6822, 172.72, 15.0204, 22.7202, 278.228, -24.7231, 12.4366, 279.065, -38.0288, 31.2162, 168.1, -8.4456, -45.2373, 215.783, -22.7667, 0, 0, 0, 0, 0, 0, 0, 0, 0, 0, 0, 0, 0, 0, 0, 14.1415, 209.024, 53.5279, 0, 0, 0], [15.6401, 172.666, 15.0403, 22.741, 278.231, -24.7119, 12.4147, 279.064, -38.0243, 31.1728, 168.03, -8.42534, -45.221, 215.788, -22.7705, 0, 0, 0, 0, 0, 0, 0, 0, 0, 0, 0, 0, 0, 0, 0, 14.1446, 209.012, 53.5232, 0, 0, 0], [15.5947, 172.61, 15.0616, 22.7552, 278.243, -24.6915, 12.3844, 279.085, -38.0021, 31.127, 167.958, -8.40507, -45.2054, 215.79, -22.7755, 0, 0, 0, 0, 0, 0, 0, 0, 0, 0, 0, 0, 0, 0, 0, 14.1459, 208.998, 53.5182, 0, 0, 0]]})\n"
          ],
          "name": "stdout"
        }
      ]
    },
    {
      "cell_type": "code",
      "metadata": {
        "id": "MQEbfvSJFhQn"
      },
      "source": [
        "def load_sentence_data(arr,mapping):\n",
        "    Y=arr.split(' ')\n",
        "    test_data=[]\n",
        "    for i in range(len(Y)):\n",
        "        temp=str(Y[i])\n",
        "        if temp not in mapping.keys():\n",
        "            print(\"Please insert \",temp,\" in testing folder!!\")\n",
        "            return\n",
        "        temp_data=mapping.get(temp)\n",
        "        test_data.append(temp_data)\n",
        "    return test_data,Y\n",
        "    "
      ],
      "execution_count": null,
      "outputs": []
    },
    {
      "cell_type": "code",
      "metadata": {
        "id": "dTDx_iT4FhQo"
      },
      "source": [
        "no_sentence=2\n",
        "sentence_list=[ 'HI','I AM FINE','WHAT TIME YOU WORK',\\\n",
        "               'I WORK TUESDAY MORNING','I WORK THRUSDAY MORNING','FRIEND TALK FINE ENGLISH',\\\n",
        "               'PLEASE CALL FRIEND THRUSDAY MORNING','AM I BAD','I AM GOOD','I AM HAPPY','YOU ARE GOOD FRIEND','WHERE ARE YOU',\\\n",
        "               'I AM BAD','WHERE AM I','GOOD MORNING FRIEND','GOOD WORK','THANK YOU','YOU ARE COLLEGE FRIEND','WHAT YOU WORK',\\\n",
        "              'GOOD PLACE','I AM SORRY','I WORK MORNING','I THINK YOU ARE HAPPY','I THINK YOU ARE FINE','WHERE YOU WORK',\\\n",
        "               'HOW ARE YOU','I WORK AFTER FOOD','PLEASE HELP']\n",
        "sentence_data=[]\n",
        "sen_Y=[]\n",
        "for i in range(len(sentence_list)):\n",
        "    temp_data,temp_Y=load_sentence_data(sentence_list[i],mapping)\n",
        "    temp_data=np.array(temp_data)\n",
        "    from sklearn.preprocessing import StandardScaler\n",
        "#     scalers = {}\n",
        "#     print(temp_data)\n",
        "    \n",
        "    for i in range(temp_data.shape[2]):\n",
        "    \n",
        "        temp_data[:, :, i] = scalers[i].transform(temp_data[:, :, i]) \n",
        "        \n",
        "    y_digit=[]\n",
        "    lables_temp=list(true_levels)\n",
        "    for i in temp_Y:\n",
        "        ind=lables_temp.index(i)\n",
        "        y_digit.append(ind)\n",
        "#     print(y_digit)\n",
        "    \n",
        "    sentence_data.append(temp_data)\n",
        "    sen_Y.append(y_digit)\n"
      ],
      "execution_count": null,
      "outputs": []
    },
    {
      "cell_type": "code",
      "metadata": {
        "id": "LsML1ESjFhQo"
      },
      "source": [
        "def do_test_sentence_acc(predicted,actual):\n",
        "    count=0\n",
        "    for i in range(len(actual)):\n",
        "        if predicted[i]==actual[i]:\n",
        "            count+=1\n",
        "    acc=(count/len(actual))*100\n",
        "    return acc\n",
        "    "
      ],
      "execution_count": null,
      "outputs": []
    },
    {
      "cell_type": "code",
      "metadata": {
        "id": "_yDqIbVjFhQp",
        "outputId": "8aa5047e-bc10-4064-af87-0e85e85af527"
      },
      "source": [
        "avg_acc=0\n",
        "for i in range(len(sentence_list)):\n",
        "    result=model.predict_classes(sentence_data[i])\n",
        "#     print(result)\n",
        "    avg_acc+=do_test_sentence_acc(result,sen_Y[i])\n",
        "print(avg_acc/len(sentence_list))"
      ],
      "execution_count": null,
      "outputs": [
        {
          "output_type": "stream",
          "text": [
            "4.761904761904761\n"
          ],
          "name": "stdout"
        }
      ]
    },
    {
      "cell_type": "code",
      "metadata": {
        "id": "q90F6WqXFhQq",
        "outputId": "25b1004e-7c9a-4d28-b319-43c8f46677ee"
      },
      "source": [
        "len(sentence_list)"
      ],
      "execution_count": null,
      "outputs": [
        {
          "output_type": "execute_result",
          "data": {
            "text/plain": [
              "28"
            ]
          },
          "metadata": {
            "tags": []
          },
          "execution_count": 50
        }
      ]
    },
    {
      "cell_type": "markdown",
      "metadata": {
        "id": "LMXA4a7HFhQq"
      },
      "source": [
        "# Sentence prediction using SVM"
      ]
    },
    {
      "cell_type": "code",
      "metadata": {
        "id": "Zyh0wvegFhQr",
        "outputId": "0d452c68-dd78-4a9f-973f-b68502ff0ffa"
      },
      "source": [
        "avg_acc=0\n",
        "for i in range(len(sentence_list)):\n",
        "    result=SVM_classifier.predict(sentence_data[i].reshape(len(sentence_data[i]),-1))\n",
        "#     print(result)\n",
        "    avg_acc+=do_test_sentence_acc(result,sen_Y[i])\n",
        "print(avg_acc/len(sentence_list))"
      ],
      "execution_count": null,
      "outputs": [
        {
          "output_type": "stream",
          "text": [
            "3.5714285714285707\n"
          ],
          "name": "stdout"
        }
      ]
    },
    {
      "cell_type": "code",
      "metadata": {
        "id": "tWAhP1GpFhQr"
      },
      "source": [
        ""
      ],
      "execution_count": null,
      "outputs": []
    }
  ]
}